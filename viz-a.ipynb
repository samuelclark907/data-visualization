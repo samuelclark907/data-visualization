{
 "metadata": {
  "language_info": {
   "codemirror_mode": {
    "name": "ipython",
    "version": 3
   },
   "file_extension": ".py",
   "mimetype": "text/x-python",
   "name": "python",
   "nbconvert_exporter": "python",
   "pygments_lexer": "ipython3",
   "version": "3.9.0-final"
  },
  "orig_nbformat": 2,
  "kernelspec": {
   "name": "python3",
   "display_name": "Python 3",
   "language": "python"
  }
 },
 "nbformat": 4,
 "nbformat_minor": 2,
 "cells": [
  {
   "cell_type": "code",
   "execution_count": 88,
   "metadata": {},
   "outputs": [],
   "source": [
    "%matplotlib inline\n",
    "import pandas as pd\n",
    "import matplotlib.pyplot as plt\n"
   ]
  },
  {
   "cell_type": "code",
   "execution_count": 89,
   "metadata": {},
   "outputs": [
    {
     "output_type": "execute_result",
     "data": {
      "text/plain": [
       "    state  year  pregnancyratelt15  pregnancyrate1517  pregnancyrate1819  \\\n",
       "0      AL  1988               21.3               78.3              155.7   \n",
       "1      AL  1992               23.6               76.3              173.4   \n",
       "2      AL  1996               18.5               66.2              156.2   \n",
       "3      AL  2000               11.9               53.7              140.8   \n",
       "4      AL  2005                8.7               38.6              118.7   \n",
       "..    ...   ...                ...                ...                ...   \n",
       "855    WY  2012                NaN               20.1               92.1   \n",
       "856    WY  2013                NaN               18.7               75.6   \n",
       "857    WY  2014                NaN               17.6               82.4   \n",
       "858    WY  2015                NaN               14.5               80.1   \n",
       "859    WY  2016                NaN               13.6               72.1   \n",
       "\n",
       "     pregnancyrate1519  pregnancyratelt20  pregnancyrate2024  \\\n",
       "0                110.5              114.3              186.5   \n",
       "1                116.4              120.9              184.2   \n",
       "2                102.4              106.0              176.6   \n",
       "3                 89.8               92.1              186.8   \n",
       "4                 70.8               72.5              165.8   \n",
       "..                 ...                ...                ...   \n",
       "855               49.7               50.2              139.9   \n",
       "856               41.9               42.2              140.0   \n",
       "857               43.2               43.6              138.8   \n",
       "858               40.3               40.8              140.9   \n",
       "859               36.7               37.2              126.0   \n",
       "\n",
       "     pregnancyrate2529  pregnancyrate3034  ...  abortionstotal  birthstotal  \\\n",
       "0                152.5               87.2  ...           20100        60745   \n",
       "1                155.0               87.2  ...           17720        62260   \n",
       "2                143.2               90.5  ...           14940        60488   \n",
       "3                158.7               96.1  ...           13060        63299   \n",
       "4                154.8              100.5  ...           10840        60453   \n",
       "..                 ...                ...  ...             ...          ...   \n",
       "855              166.1              115.6  ...             940         7572   \n",
       "856              167.5              113.5  ...             820         7644   \n",
       "857              169.2              116.3  ...             850         7696   \n",
       "858              164.4              121.5  ...             840         7765   \n",
       "859              159.0              123.5  ...             770         7386   \n",
       "\n",
       "     pregnancyratetotal  birthratetotal  abortionratetotal  \\\n",
       "0                 100.5            64.3               21.3   \n",
       "1                  97.8            64.6               18.4   \n",
       "2                  90.9            61.8               15.3   \n",
       "3                  93.1            65.2               13.5   \n",
       "4                  88.8            63.6               11.4   \n",
       "..                  ...             ...                ...   \n",
       "855                93.1            69.7                8.7   \n",
       "856                91.5            69.4                7.5   \n",
       "857                92.5            70.0                7.7   \n",
       "858                92.9            70.5                7.6   \n",
       "859                88.7            67.5                7.0   \n",
       "\n",
       "     abortionratiototal  miscarriagestotal  pregnanciestotal  \\\n",
       "0                 330.9              14160             95000   \n",
       "1                 284.6              14220             94200   \n",
       "2                 247.0              13590             89020   \n",
       "3                 206.3              13970             90320   \n",
       "4                 179.3              13170             84470   \n",
       "..                  ...                ...               ...   \n",
       "855               124.3               1610             10120   \n",
       "856               107.5               1610             10080   \n",
       "857               110.5               1620             10170   \n",
       "858               107.8               1640             10240   \n",
       "859               103.7               1550              9710   \n",
       "\n",
       "                                                 notes  versiondate  \n",
       "0    Abortion estimate based on the number of abort...   2 Oct 2020  \n",
       "1                                                  NaN   2 Oct 2020  \n",
       "2                                                  NaN   2 Oct 2020  \n",
       "3                                                  NaN   2 Oct 2020  \n",
       "4                                                  NaN   2 Oct 2020  \n",
       "..                                                 ...          ...  \n",
       "855  Abortion estimate based on the number of abort...   2 Oct 2020  \n",
       "856  Abortion estimate based on the number of abort...   2 Oct 2020  \n",
       "857  Abortion estimate based on the number of abort...   2 Oct 2020  \n",
       "858  Abortion estimate based on the number of abort...   2 Oct 2020  \n",
       "859  Abortion estimate based on the number of abort...   2 Oct 2020  \n",
       "\n",
       "[860 rows x 103 columns]"
      ],
      "text/html": "<div>\n<style scoped>\n    .dataframe tbody tr th:only-of-type {\n        vertical-align: middle;\n    }\n\n    .dataframe tbody tr th {\n        vertical-align: top;\n    }\n\n    .dataframe thead th {\n        text-align: right;\n    }\n</style>\n<table border=\"1\" class=\"dataframe\">\n  <thead>\n    <tr style=\"text-align: right;\">\n      <th></th>\n      <th>state</th>\n      <th>year</th>\n      <th>pregnancyratelt15</th>\n      <th>pregnancyrate1517</th>\n      <th>pregnancyrate1819</th>\n      <th>pregnancyrate1519</th>\n      <th>pregnancyratelt20</th>\n      <th>pregnancyrate2024</th>\n      <th>pregnancyrate2529</th>\n      <th>pregnancyrate3034</th>\n      <th>...</th>\n      <th>abortionstotal</th>\n      <th>birthstotal</th>\n      <th>pregnancyratetotal</th>\n      <th>birthratetotal</th>\n      <th>abortionratetotal</th>\n      <th>abortionratiototal</th>\n      <th>miscarriagestotal</th>\n      <th>pregnanciestotal</th>\n      <th>notes</th>\n      <th>versiondate</th>\n    </tr>\n  </thead>\n  <tbody>\n    <tr>\n      <th>0</th>\n      <td>AL</td>\n      <td>1988</td>\n      <td>21.3</td>\n      <td>78.3</td>\n      <td>155.7</td>\n      <td>110.5</td>\n      <td>114.3</td>\n      <td>186.5</td>\n      <td>152.5</td>\n      <td>87.2</td>\n      <td>...</td>\n      <td>20100</td>\n      <td>60745</td>\n      <td>100.5</td>\n      <td>64.3</td>\n      <td>21.3</td>\n      <td>330.9</td>\n      <td>14160</td>\n      <td>95000</td>\n      <td>Abortion estimate based on the number of abort...</td>\n      <td>2 Oct 2020</td>\n    </tr>\n    <tr>\n      <th>1</th>\n      <td>AL</td>\n      <td>1992</td>\n      <td>23.6</td>\n      <td>76.3</td>\n      <td>173.4</td>\n      <td>116.4</td>\n      <td>120.9</td>\n      <td>184.2</td>\n      <td>155.0</td>\n      <td>87.2</td>\n      <td>...</td>\n      <td>17720</td>\n      <td>62260</td>\n      <td>97.8</td>\n      <td>64.6</td>\n      <td>18.4</td>\n      <td>284.6</td>\n      <td>14220</td>\n      <td>94200</td>\n      <td>NaN</td>\n      <td>2 Oct 2020</td>\n    </tr>\n    <tr>\n      <th>2</th>\n      <td>AL</td>\n      <td>1996</td>\n      <td>18.5</td>\n      <td>66.2</td>\n      <td>156.2</td>\n      <td>102.4</td>\n      <td>106.0</td>\n      <td>176.6</td>\n      <td>143.2</td>\n      <td>90.5</td>\n      <td>...</td>\n      <td>14940</td>\n      <td>60488</td>\n      <td>90.9</td>\n      <td>61.8</td>\n      <td>15.3</td>\n      <td>247.0</td>\n      <td>13590</td>\n      <td>89020</td>\n      <td>NaN</td>\n      <td>2 Oct 2020</td>\n    </tr>\n    <tr>\n      <th>3</th>\n      <td>AL</td>\n      <td>2000</td>\n      <td>11.9</td>\n      <td>53.7</td>\n      <td>140.8</td>\n      <td>89.8</td>\n      <td>92.1</td>\n      <td>186.8</td>\n      <td>158.7</td>\n      <td>96.1</td>\n      <td>...</td>\n      <td>13060</td>\n      <td>63299</td>\n      <td>93.1</td>\n      <td>65.2</td>\n      <td>13.5</td>\n      <td>206.3</td>\n      <td>13970</td>\n      <td>90320</td>\n      <td>NaN</td>\n      <td>2 Oct 2020</td>\n    </tr>\n    <tr>\n      <th>4</th>\n      <td>AL</td>\n      <td>2005</td>\n      <td>8.7</td>\n      <td>38.6</td>\n      <td>118.7</td>\n      <td>70.8</td>\n      <td>72.5</td>\n      <td>165.8</td>\n      <td>154.8</td>\n      <td>100.5</td>\n      <td>...</td>\n      <td>10840</td>\n      <td>60453</td>\n      <td>88.8</td>\n      <td>63.6</td>\n      <td>11.4</td>\n      <td>179.3</td>\n      <td>13170</td>\n      <td>84470</td>\n      <td>NaN</td>\n      <td>2 Oct 2020</td>\n    </tr>\n    <tr>\n      <th>...</th>\n      <td>...</td>\n      <td>...</td>\n      <td>...</td>\n      <td>...</td>\n      <td>...</td>\n      <td>...</td>\n      <td>...</td>\n      <td>...</td>\n      <td>...</td>\n      <td>...</td>\n      <td>...</td>\n      <td>...</td>\n      <td>...</td>\n      <td>...</td>\n      <td>...</td>\n      <td>...</td>\n      <td>...</td>\n      <td>...</td>\n      <td>...</td>\n      <td>...</td>\n      <td>...</td>\n    </tr>\n    <tr>\n      <th>855</th>\n      <td>WY</td>\n      <td>2012</td>\n      <td>NaN</td>\n      <td>20.1</td>\n      <td>92.1</td>\n      <td>49.7</td>\n      <td>50.2</td>\n      <td>139.9</td>\n      <td>166.1</td>\n      <td>115.6</td>\n      <td>...</td>\n      <td>940</td>\n      <td>7572</td>\n      <td>93.1</td>\n      <td>69.7</td>\n      <td>8.7</td>\n      <td>124.3</td>\n      <td>1610</td>\n      <td>10120</td>\n      <td>Abortion estimate based on the number of abort...</td>\n      <td>2 Oct 2020</td>\n    </tr>\n    <tr>\n      <th>856</th>\n      <td>WY</td>\n      <td>2013</td>\n      <td>NaN</td>\n      <td>18.7</td>\n      <td>75.6</td>\n      <td>41.9</td>\n      <td>42.2</td>\n      <td>140.0</td>\n      <td>167.5</td>\n      <td>113.5</td>\n      <td>...</td>\n      <td>820</td>\n      <td>7644</td>\n      <td>91.5</td>\n      <td>69.4</td>\n      <td>7.5</td>\n      <td>107.5</td>\n      <td>1610</td>\n      <td>10080</td>\n      <td>Abortion estimate based on the number of abort...</td>\n      <td>2 Oct 2020</td>\n    </tr>\n    <tr>\n      <th>857</th>\n      <td>WY</td>\n      <td>2014</td>\n      <td>NaN</td>\n      <td>17.6</td>\n      <td>82.4</td>\n      <td>43.2</td>\n      <td>43.6</td>\n      <td>138.8</td>\n      <td>169.2</td>\n      <td>116.3</td>\n      <td>...</td>\n      <td>850</td>\n      <td>7696</td>\n      <td>92.5</td>\n      <td>70.0</td>\n      <td>7.7</td>\n      <td>110.5</td>\n      <td>1620</td>\n      <td>10170</td>\n      <td>Abortion estimate based on the number of abort...</td>\n      <td>2 Oct 2020</td>\n    </tr>\n    <tr>\n      <th>858</th>\n      <td>WY</td>\n      <td>2015</td>\n      <td>NaN</td>\n      <td>14.5</td>\n      <td>80.1</td>\n      <td>40.3</td>\n      <td>40.8</td>\n      <td>140.9</td>\n      <td>164.4</td>\n      <td>121.5</td>\n      <td>...</td>\n      <td>840</td>\n      <td>7765</td>\n      <td>92.9</td>\n      <td>70.5</td>\n      <td>7.6</td>\n      <td>107.8</td>\n      <td>1640</td>\n      <td>10240</td>\n      <td>Abortion estimate based on the number of abort...</td>\n      <td>2 Oct 2020</td>\n    </tr>\n    <tr>\n      <th>859</th>\n      <td>WY</td>\n      <td>2016</td>\n      <td>NaN</td>\n      <td>13.6</td>\n      <td>72.1</td>\n      <td>36.7</td>\n      <td>37.2</td>\n      <td>126.0</td>\n      <td>159.0</td>\n      <td>123.5</td>\n      <td>...</td>\n      <td>770</td>\n      <td>7386</td>\n      <td>88.7</td>\n      <td>67.5</td>\n      <td>7.0</td>\n      <td>103.7</td>\n      <td>1550</td>\n      <td>9710</td>\n      <td>Abortion estimate based on the number of abort...</td>\n      <td>2 Oct 2020</td>\n    </tr>\n  </tbody>\n</table>\n<p>860 rows × 103 columns</p>\n</div>"
     },
     "metadata": {},
     "execution_count": 89
    }
   ],
   "source": [
    "abort_df = pd.read_csv('abortion-stats.csv')\n",
    "abort_df"
   ]
  },
  {
   "cell_type": "code",
   "execution_count": 90,
   "metadata": {},
   "outputs": [
    {
     "output_type": "execute_result",
     "data": {
      "text/plain": [
       "  state  year  pregnancyratelt15  pregnancyrate1517  pregnancyrate1819  \\\n",
       "0    AL  1988               21.3               78.3              155.7   \n",
       "1    AL  1992               23.6               76.3              173.4   \n",
       "2    AL  1996               18.5               66.2              156.2   \n",
       "3    AL  2000               11.9               53.7              140.8   \n",
       "4    AL  2005                8.7               38.6              118.7   \n",
       "\n",
       "   pregnancyrate1519  pregnancyratelt20  pregnancyrate2024  pregnancyrate2529  \\\n",
       "0              110.5              114.3              186.5              152.5   \n",
       "1              116.4              120.9              184.2              155.0   \n",
       "2              102.4              106.0              176.6              143.2   \n",
       "3               89.8               92.1              186.8              158.7   \n",
       "4               70.8               72.5              165.8              154.8   \n",
       "\n",
       "   pregnancyrate3034  ...  abortionstotal  birthstotal  pregnancyratetotal  \\\n",
       "0               87.2  ...           20100        60745               100.5   \n",
       "1               87.2  ...           17720        62260                97.8   \n",
       "2               90.5  ...           14940        60488                90.9   \n",
       "3               96.1  ...           13060        63299                93.1   \n",
       "4              100.5  ...           10840        60453                88.8   \n",
       "\n",
       "   birthratetotal  abortionratetotal  abortionratiototal  miscarriagestotal  \\\n",
       "0            64.3               21.3               330.9              14160   \n",
       "1            64.6               18.4               284.6              14220   \n",
       "2            61.8               15.3               247.0              13590   \n",
       "3            65.2               13.5               206.3              13970   \n",
       "4            63.6               11.4               179.3              13170   \n",
       "\n",
       "   pregnanciestotal                                              notes  \\\n",
       "0             95000  Abortion estimate based on the number of abort...   \n",
       "1             94200                                                NaN   \n",
       "2             89020                                                NaN   \n",
       "3             90320                                                NaN   \n",
       "4             84470                                                NaN   \n",
       "\n",
       "   versiondate  \n",
       "0   2 Oct 2020  \n",
       "1   2 Oct 2020  \n",
       "2   2 Oct 2020  \n",
       "3   2 Oct 2020  \n",
       "4   2 Oct 2020  \n",
       "\n",
       "[5 rows x 103 columns]"
      ],
      "text/html": "<div>\n<style scoped>\n    .dataframe tbody tr th:only-of-type {\n        vertical-align: middle;\n    }\n\n    .dataframe tbody tr th {\n        vertical-align: top;\n    }\n\n    .dataframe thead th {\n        text-align: right;\n    }\n</style>\n<table border=\"1\" class=\"dataframe\">\n  <thead>\n    <tr style=\"text-align: right;\">\n      <th></th>\n      <th>state</th>\n      <th>year</th>\n      <th>pregnancyratelt15</th>\n      <th>pregnancyrate1517</th>\n      <th>pregnancyrate1819</th>\n      <th>pregnancyrate1519</th>\n      <th>pregnancyratelt20</th>\n      <th>pregnancyrate2024</th>\n      <th>pregnancyrate2529</th>\n      <th>pregnancyrate3034</th>\n      <th>...</th>\n      <th>abortionstotal</th>\n      <th>birthstotal</th>\n      <th>pregnancyratetotal</th>\n      <th>birthratetotal</th>\n      <th>abortionratetotal</th>\n      <th>abortionratiototal</th>\n      <th>miscarriagestotal</th>\n      <th>pregnanciestotal</th>\n      <th>notes</th>\n      <th>versiondate</th>\n    </tr>\n  </thead>\n  <tbody>\n    <tr>\n      <th>0</th>\n      <td>AL</td>\n      <td>1988</td>\n      <td>21.3</td>\n      <td>78.3</td>\n      <td>155.7</td>\n      <td>110.5</td>\n      <td>114.3</td>\n      <td>186.5</td>\n      <td>152.5</td>\n      <td>87.2</td>\n      <td>...</td>\n      <td>20100</td>\n      <td>60745</td>\n      <td>100.5</td>\n      <td>64.3</td>\n      <td>21.3</td>\n      <td>330.9</td>\n      <td>14160</td>\n      <td>95000</td>\n      <td>Abortion estimate based on the number of abort...</td>\n      <td>2 Oct 2020</td>\n    </tr>\n    <tr>\n      <th>1</th>\n      <td>AL</td>\n      <td>1992</td>\n      <td>23.6</td>\n      <td>76.3</td>\n      <td>173.4</td>\n      <td>116.4</td>\n      <td>120.9</td>\n      <td>184.2</td>\n      <td>155.0</td>\n      <td>87.2</td>\n      <td>...</td>\n      <td>17720</td>\n      <td>62260</td>\n      <td>97.8</td>\n      <td>64.6</td>\n      <td>18.4</td>\n      <td>284.6</td>\n      <td>14220</td>\n      <td>94200</td>\n      <td>NaN</td>\n      <td>2 Oct 2020</td>\n    </tr>\n    <tr>\n      <th>2</th>\n      <td>AL</td>\n      <td>1996</td>\n      <td>18.5</td>\n      <td>66.2</td>\n      <td>156.2</td>\n      <td>102.4</td>\n      <td>106.0</td>\n      <td>176.6</td>\n      <td>143.2</td>\n      <td>90.5</td>\n      <td>...</td>\n      <td>14940</td>\n      <td>60488</td>\n      <td>90.9</td>\n      <td>61.8</td>\n      <td>15.3</td>\n      <td>247.0</td>\n      <td>13590</td>\n      <td>89020</td>\n      <td>NaN</td>\n      <td>2 Oct 2020</td>\n    </tr>\n    <tr>\n      <th>3</th>\n      <td>AL</td>\n      <td>2000</td>\n      <td>11.9</td>\n      <td>53.7</td>\n      <td>140.8</td>\n      <td>89.8</td>\n      <td>92.1</td>\n      <td>186.8</td>\n      <td>158.7</td>\n      <td>96.1</td>\n      <td>...</td>\n      <td>13060</td>\n      <td>63299</td>\n      <td>93.1</td>\n      <td>65.2</td>\n      <td>13.5</td>\n      <td>206.3</td>\n      <td>13970</td>\n      <td>90320</td>\n      <td>NaN</td>\n      <td>2 Oct 2020</td>\n    </tr>\n    <tr>\n      <th>4</th>\n      <td>AL</td>\n      <td>2005</td>\n      <td>8.7</td>\n      <td>38.6</td>\n      <td>118.7</td>\n      <td>70.8</td>\n      <td>72.5</td>\n      <td>165.8</td>\n      <td>154.8</td>\n      <td>100.5</td>\n      <td>...</td>\n      <td>10840</td>\n      <td>60453</td>\n      <td>88.8</td>\n      <td>63.6</td>\n      <td>11.4</td>\n      <td>179.3</td>\n      <td>13170</td>\n      <td>84470</td>\n      <td>NaN</td>\n      <td>2 Oct 2020</td>\n    </tr>\n  </tbody>\n</table>\n<p>5 rows × 103 columns</p>\n</div>"
     },
     "metadata": {},
     "execution_count": 90
    }
   ],
   "source": [
    "abort_df.head()"
   ]
  },
  {
   "cell_type": "code",
   "execution_count": 91,
   "metadata": {},
   "outputs": [
    {
     "output_type": "execute_result",
     "data": {
      "text/plain": [
       "     year state  abortionstotal\n",
       "0    1988    AL           20100\n",
       "1    1992    AL           17720\n",
       "2    1996    AL           14940\n",
       "3    2000    AL           13060\n",
       "4    2005    AL           10840\n",
       "..    ...   ...             ...\n",
       "855  2012    WY             940\n",
       "856  2013    WY             820\n",
       "857  2014    WY             850\n",
       "858  2015    WY             840\n",
       "859  2016    WY             770\n",
       "\n",
       "[860 rows x 3 columns]"
      ],
      "text/html": "<div>\n<style scoped>\n    .dataframe tbody tr th:only-of-type {\n        vertical-align: middle;\n    }\n\n    .dataframe tbody tr th {\n        vertical-align: top;\n    }\n\n    .dataframe thead th {\n        text-align: right;\n    }\n</style>\n<table border=\"1\" class=\"dataframe\">\n  <thead>\n    <tr style=\"text-align: right;\">\n      <th></th>\n      <th>year</th>\n      <th>state</th>\n      <th>abortionstotal</th>\n    </tr>\n  </thead>\n  <tbody>\n    <tr>\n      <th>0</th>\n      <td>1988</td>\n      <td>AL</td>\n      <td>20100</td>\n    </tr>\n    <tr>\n      <th>1</th>\n      <td>1992</td>\n      <td>AL</td>\n      <td>17720</td>\n    </tr>\n    <tr>\n      <th>2</th>\n      <td>1996</td>\n      <td>AL</td>\n      <td>14940</td>\n    </tr>\n    <tr>\n      <th>3</th>\n      <td>2000</td>\n      <td>AL</td>\n      <td>13060</td>\n    </tr>\n    <tr>\n      <th>4</th>\n      <td>2005</td>\n      <td>AL</td>\n      <td>10840</td>\n    </tr>\n    <tr>\n      <th>...</th>\n      <td>...</td>\n      <td>...</td>\n      <td>...</td>\n    </tr>\n    <tr>\n      <th>855</th>\n      <td>2012</td>\n      <td>WY</td>\n      <td>940</td>\n    </tr>\n    <tr>\n      <th>856</th>\n      <td>2013</td>\n      <td>WY</td>\n      <td>820</td>\n    </tr>\n    <tr>\n      <th>857</th>\n      <td>2014</td>\n      <td>WY</td>\n      <td>850</td>\n    </tr>\n    <tr>\n      <th>858</th>\n      <td>2015</td>\n      <td>WY</td>\n      <td>840</td>\n    </tr>\n    <tr>\n      <th>859</th>\n      <td>2016</td>\n      <td>WY</td>\n      <td>770</td>\n    </tr>\n  </tbody>\n</table>\n<p>860 rows × 3 columns</p>\n</div>"
     },
     "metadata": {},
     "execution_count": 91
    }
   ],
   "source": [
    "totabort = abort_df[['year', 'state', 'abortionstotal']]\n",
    "totabort"
   ]
  },
  {
   "cell_type": "code",
   "execution_count": 92,
   "metadata": {},
   "outputs": [
    {
     "output_type": "execute_result",
     "data": {
      "text/plain": [
       "    state  year  pregnancyratelt15  pregnancyrate1517  pregnancyrate1819  \\\n",
       "512    NY  1988               19.9               75.6              163.5   \n",
       "513    NY  1992               21.1               79.3              174.7   \n",
       "514    NY  1996               15.7               66.7              158.3   \n",
       "515    NY  2000               12.3               56.9              139.9   \n",
       "516    NY  2005                9.9               46.1              120.2   \n",
       "517    NY  2006                8.8               44.7              119.5   \n",
       "518    NY  2007                8.6               42.9              117.2   \n",
       "519    NY  2008                9.1               42.2              113.8   \n",
       "520    NY  2009                8.6               39.8              107.2   \n",
       "521    NY  2010                8.1               36.3              100.8   \n",
       "522    NY  2011                6.8               32.7               94.1   \n",
       "523    NY  2012                6.2               28.9               84.3   \n",
       "524    NY  2013                4.9               24.1               74.8   \n",
       "525    NY  2014                4.3               21.7               69.9   \n",
       "526    NY  2015                3.8               19.9               65.0   \n",
       "527    NY  2016                3.5               17.6               59.4   \n",
       "\n",
       "     pregnancyrate1519  pregnancyratelt20  pregnancyrate2024  \\\n",
       "512              112.8              116.2              193.0   \n",
       "513              117.9              122.1              205.0   \n",
       "514              103.2              106.4              189.8   \n",
       "515               90.5               92.9              184.7   \n",
       "516               75.4               77.4              169.8   \n",
       "517               74.3               76.0              169.5   \n",
       "518               72.7               74.3              166.5   \n",
       "519               71.7               73.4              164.9   \n",
       "520               68.1               69.7              157.5   \n",
       "521               63.3               64.8              150.9   \n",
       "522               58.5               59.7              144.9   \n",
       "523               52.3               53.5              138.4   \n",
       "524               45.7               46.6              130.7   \n",
       "525               42.1               42.9              127.4   \n",
       "526               38.7               39.5              124.2   \n",
       "527               35.0               35.6              116.4   \n",
       "\n",
       "     pregnancyrate2529  pregnancyrate3034  ...  abortionstotal  birthstotal  \\\n",
       "512              192.9              138.4  ...          179830       280650   \n",
       "513              203.9              151.1  ...          191100       287887   \n",
       "514              181.1              147.8  ...          164080       263963   \n",
       "515              181.8              155.0  ...          161160       258737   \n",
       "516              174.3              159.8  ...          152340       246351   \n",
       "517              174.9              162.4  ...          148030       250104   \n",
       "518              175.8              164.2  ...          144390       253451   \n",
       "519              173.2              164.6  ...          149070       250383   \n",
       "520              169.2              163.7  ...          144390       248110   \n",
       "521              163.6              161.7  ...          139700       244375   \n",
       "522              160.6              159.7  ...          136280       241312   \n",
       "523              154.5              158.6  ...          126630       240916   \n",
       "524              148.5              154.9  ...          116970       236980   \n",
       "525              151.0              158.7  ...          117580       238773   \n",
       "526              148.6              159.4  ...          115560       237274   \n",
       "527              145.5              157.7  ...          108350       234283   \n",
       "\n",
       "     pregnancyratetotal  birthratetotal  abortionratetotal  \\\n",
       "512               123.5            64.8               41.5   \n",
       "513               129.8            67.2               44.6   \n",
       "514               117.5            62.4               38.8   \n",
       "515               115.8            61.4               38.3   \n",
       "516               112.6            59.9               37.0   \n",
       "517               113.3            61.2               36.2   \n",
       "518               113.8            62.3               35.5   \n",
       "519               114.3            61.6               36.7   \n",
       "520               112.6            61.2               35.6   \n",
       "521               110.5            60.4               34.5   \n",
       "522               108.7            59.7               33.7   \n",
       "523               106.1            59.7               31.4   \n",
       "524               102.6            58.9               29.0   \n",
       "525               103.7            59.6               29.3   \n",
       "526               103.4            59.6               29.0   \n",
       "527               101.3            59.3               27.4   \n",
       "\n",
       "     abortionratiototal  miscarriagestotal  pregnanciestotal  notes  \\\n",
       "512               640.8              74110            534590    NaN   \n",
       "513               663.8              76690            555670    NaN   \n",
       "514               621.6              69200            497240    NaN   \n",
       "515               622.9              67860            487760    NaN   \n",
       "516               618.4              64500            463200    NaN   \n",
       "517               591.9              64820            462950    NaN   \n",
       "518               569.7              65130            462970    NaN   \n",
       "519               595.4              64980            464440    NaN   \n",
       "520               581.9              64060            456560    NaN   \n",
       "521               571.7              62850            446920    NaN   \n",
       "522               564.8              61890            439490    NaN   \n",
       "523               525.6              60850            428390    NaN   \n",
       "524               493.6              59090            413040    NaN   \n",
       "525               492.4              59510            415870    NaN   \n",
       "526               487.0              59010            411840    NaN   \n",
       "527               462.5              57690            400330    NaN   \n",
       "\n",
       "     versiondate  \n",
       "512   2 Oct 2020  \n",
       "513   2 Oct 2020  \n",
       "514   2 Oct 2020  \n",
       "515   2 Oct 2020  \n",
       "516   2 Oct 2020  \n",
       "517   2 Oct 2020  \n",
       "518   2 Oct 2020  \n",
       "519   2 Oct 2020  \n",
       "520   2 Oct 2020  \n",
       "521   2 Oct 2020  \n",
       "522   2 Oct 2020  \n",
       "523   2 Oct 2020  \n",
       "524   2 Oct 2020  \n",
       "525   2 Oct 2020  \n",
       "526   2 Oct 2020  \n",
       "527   2 Oct 2020  \n",
       "\n",
       "[16 rows x 103 columns]"
      ],
      "text/html": "<div>\n<style scoped>\n    .dataframe tbody tr th:only-of-type {\n        vertical-align: middle;\n    }\n\n    .dataframe tbody tr th {\n        vertical-align: top;\n    }\n\n    .dataframe thead th {\n        text-align: right;\n    }\n</style>\n<table border=\"1\" class=\"dataframe\">\n  <thead>\n    <tr style=\"text-align: right;\">\n      <th></th>\n      <th>state</th>\n      <th>year</th>\n      <th>pregnancyratelt15</th>\n      <th>pregnancyrate1517</th>\n      <th>pregnancyrate1819</th>\n      <th>pregnancyrate1519</th>\n      <th>pregnancyratelt20</th>\n      <th>pregnancyrate2024</th>\n      <th>pregnancyrate2529</th>\n      <th>pregnancyrate3034</th>\n      <th>...</th>\n      <th>abortionstotal</th>\n      <th>birthstotal</th>\n      <th>pregnancyratetotal</th>\n      <th>birthratetotal</th>\n      <th>abortionratetotal</th>\n      <th>abortionratiototal</th>\n      <th>miscarriagestotal</th>\n      <th>pregnanciestotal</th>\n      <th>notes</th>\n      <th>versiondate</th>\n    </tr>\n  </thead>\n  <tbody>\n    <tr>\n      <th>512</th>\n      <td>NY</td>\n      <td>1988</td>\n      <td>19.9</td>\n      <td>75.6</td>\n      <td>163.5</td>\n      <td>112.8</td>\n      <td>116.2</td>\n      <td>193.0</td>\n      <td>192.9</td>\n      <td>138.4</td>\n      <td>...</td>\n      <td>179830</td>\n      <td>280650</td>\n      <td>123.5</td>\n      <td>64.8</td>\n      <td>41.5</td>\n      <td>640.8</td>\n      <td>74110</td>\n      <td>534590</td>\n      <td>NaN</td>\n      <td>2 Oct 2020</td>\n    </tr>\n    <tr>\n      <th>513</th>\n      <td>NY</td>\n      <td>1992</td>\n      <td>21.1</td>\n      <td>79.3</td>\n      <td>174.7</td>\n      <td>117.9</td>\n      <td>122.1</td>\n      <td>205.0</td>\n      <td>203.9</td>\n      <td>151.1</td>\n      <td>...</td>\n      <td>191100</td>\n      <td>287887</td>\n      <td>129.8</td>\n      <td>67.2</td>\n      <td>44.6</td>\n      <td>663.8</td>\n      <td>76690</td>\n      <td>555670</td>\n      <td>NaN</td>\n      <td>2 Oct 2020</td>\n    </tr>\n    <tr>\n      <th>514</th>\n      <td>NY</td>\n      <td>1996</td>\n      <td>15.7</td>\n      <td>66.7</td>\n      <td>158.3</td>\n      <td>103.2</td>\n      <td>106.4</td>\n      <td>189.8</td>\n      <td>181.1</td>\n      <td>147.8</td>\n      <td>...</td>\n      <td>164080</td>\n      <td>263963</td>\n      <td>117.5</td>\n      <td>62.4</td>\n      <td>38.8</td>\n      <td>621.6</td>\n      <td>69200</td>\n      <td>497240</td>\n      <td>NaN</td>\n      <td>2 Oct 2020</td>\n    </tr>\n    <tr>\n      <th>515</th>\n      <td>NY</td>\n      <td>2000</td>\n      <td>12.3</td>\n      <td>56.9</td>\n      <td>139.9</td>\n      <td>90.5</td>\n      <td>92.9</td>\n      <td>184.7</td>\n      <td>181.8</td>\n      <td>155.0</td>\n      <td>...</td>\n      <td>161160</td>\n      <td>258737</td>\n      <td>115.8</td>\n      <td>61.4</td>\n      <td>38.3</td>\n      <td>622.9</td>\n      <td>67860</td>\n      <td>487760</td>\n      <td>NaN</td>\n      <td>2 Oct 2020</td>\n    </tr>\n    <tr>\n      <th>516</th>\n      <td>NY</td>\n      <td>2005</td>\n      <td>9.9</td>\n      <td>46.1</td>\n      <td>120.2</td>\n      <td>75.4</td>\n      <td>77.4</td>\n      <td>169.8</td>\n      <td>174.3</td>\n      <td>159.8</td>\n      <td>...</td>\n      <td>152340</td>\n      <td>246351</td>\n      <td>112.6</td>\n      <td>59.9</td>\n      <td>37.0</td>\n      <td>618.4</td>\n      <td>64500</td>\n      <td>463200</td>\n      <td>NaN</td>\n      <td>2 Oct 2020</td>\n    </tr>\n    <tr>\n      <th>517</th>\n      <td>NY</td>\n      <td>2006</td>\n      <td>8.8</td>\n      <td>44.7</td>\n      <td>119.5</td>\n      <td>74.3</td>\n      <td>76.0</td>\n      <td>169.5</td>\n      <td>174.9</td>\n      <td>162.4</td>\n      <td>...</td>\n      <td>148030</td>\n      <td>250104</td>\n      <td>113.3</td>\n      <td>61.2</td>\n      <td>36.2</td>\n      <td>591.9</td>\n      <td>64820</td>\n      <td>462950</td>\n      <td>NaN</td>\n      <td>2 Oct 2020</td>\n    </tr>\n    <tr>\n      <th>518</th>\n      <td>NY</td>\n      <td>2007</td>\n      <td>8.6</td>\n      <td>42.9</td>\n      <td>117.2</td>\n      <td>72.7</td>\n      <td>74.3</td>\n      <td>166.5</td>\n      <td>175.8</td>\n      <td>164.2</td>\n      <td>...</td>\n      <td>144390</td>\n      <td>253451</td>\n      <td>113.8</td>\n      <td>62.3</td>\n      <td>35.5</td>\n      <td>569.7</td>\n      <td>65130</td>\n      <td>462970</td>\n      <td>NaN</td>\n      <td>2 Oct 2020</td>\n    </tr>\n    <tr>\n      <th>519</th>\n      <td>NY</td>\n      <td>2008</td>\n      <td>9.1</td>\n      <td>42.2</td>\n      <td>113.8</td>\n      <td>71.7</td>\n      <td>73.4</td>\n      <td>164.9</td>\n      <td>173.2</td>\n      <td>164.6</td>\n      <td>...</td>\n      <td>149070</td>\n      <td>250383</td>\n      <td>114.3</td>\n      <td>61.6</td>\n      <td>36.7</td>\n      <td>595.4</td>\n      <td>64980</td>\n      <td>464440</td>\n      <td>NaN</td>\n      <td>2 Oct 2020</td>\n    </tr>\n    <tr>\n      <th>520</th>\n      <td>NY</td>\n      <td>2009</td>\n      <td>8.6</td>\n      <td>39.8</td>\n      <td>107.2</td>\n      <td>68.1</td>\n      <td>69.7</td>\n      <td>157.5</td>\n      <td>169.2</td>\n      <td>163.7</td>\n      <td>...</td>\n      <td>144390</td>\n      <td>248110</td>\n      <td>112.6</td>\n      <td>61.2</td>\n      <td>35.6</td>\n      <td>581.9</td>\n      <td>64060</td>\n      <td>456560</td>\n      <td>NaN</td>\n      <td>2 Oct 2020</td>\n    </tr>\n    <tr>\n      <th>521</th>\n      <td>NY</td>\n      <td>2010</td>\n      <td>8.1</td>\n      <td>36.3</td>\n      <td>100.8</td>\n      <td>63.3</td>\n      <td>64.8</td>\n      <td>150.9</td>\n      <td>163.6</td>\n      <td>161.7</td>\n      <td>...</td>\n      <td>139700</td>\n      <td>244375</td>\n      <td>110.5</td>\n      <td>60.4</td>\n      <td>34.5</td>\n      <td>571.7</td>\n      <td>62850</td>\n      <td>446920</td>\n      <td>NaN</td>\n      <td>2 Oct 2020</td>\n    </tr>\n    <tr>\n      <th>522</th>\n      <td>NY</td>\n      <td>2011</td>\n      <td>6.8</td>\n      <td>32.7</td>\n      <td>94.1</td>\n      <td>58.5</td>\n      <td>59.7</td>\n      <td>144.9</td>\n      <td>160.6</td>\n      <td>159.7</td>\n      <td>...</td>\n      <td>136280</td>\n      <td>241312</td>\n      <td>108.7</td>\n      <td>59.7</td>\n      <td>33.7</td>\n      <td>564.8</td>\n      <td>61890</td>\n      <td>439490</td>\n      <td>NaN</td>\n      <td>2 Oct 2020</td>\n    </tr>\n    <tr>\n      <th>523</th>\n      <td>NY</td>\n      <td>2012</td>\n      <td>6.2</td>\n      <td>28.9</td>\n      <td>84.3</td>\n      <td>52.3</td>\n      <td>53.5</td>\n      <td>138.4</td>\n      <td>154.5</td>\n      <td>158.6</td>\n      <td>...</td>\n      <td>126630</td>\n      <td>240916</td>\n      <td>106.1</td>\n      <td>59.7</td>\n      <td>31.4</td>\n      <td>525.6</td>\n      <td>60850</td>\n      <td>428390</td>\n      <td>NaN</td>\n      <td>2 Oct 2020</td>\n    </tr>\n    <tr>\n      <th>524</th>\n      <td>NY</td>\n      <td>2013</td>\n      <td>4.9</td>\n      <td>24.1</td>\n      <td>74.8</td>\n      <td>45.7</td>\n      <td>46.6</td>\n      <td>130.7</td>\n      <td>148.5</td>\n      <td>154.9</td>\n      <td>...</td>\n      <td>116970</td>\n      <td>236980</td>\n      <td>102.6</td>\n      <td>58.9</td>\n      <td>29.0</td>\n      <td>493.6</td>\n      <td>59090</td>\n      <td>413040</td>\n      <td>NaN</td>\n      <td>2 Oct 2020</td>\n    </tr>\n    <tr>\n      <th>525</th>\n      <td>NY</td>\n      <td>2014</td>\n      <td>4.3</td>\n      <td>21.7</td>\n      <td>69.9</td>\n      <td>42.1</td>\n      <td>42.9</td>\n      <td>127.4</td>\n      <td>151.0</td>\n      <td>158.7</td>\n      <td>...</td>\n      <td>117580</td>\n      <td>238773</td>\n      <td>103.7</td>\n      <td>59.6</td>\n      <td>29.3</td>\n      <td>492.4</td>\n      <td>59510</td>\n      <td>415870</td>\n      <td>NaN</td>\n      <td>2 Oct 2020</td>\n    </tr>\n    <tr>\n      <th>526</th>\n      <td>NY</td>\n      <td>2015</td>\n      <td>3.8</td>\n      <td>19.9</td>\n      <td>65.0</td>\n      <td>38.7</td>\n      <td>39.5</td>\n      <td>124.2</td>\n      <td>148.6</td>\n      <td>159.4</td>\n      <td>...</td>\n      <td>115560</td>\n      <td>237274</td>\n      <td>103.4</td>\n      <td>59.6</td>\n      <td>29.0</td>\n      <td>487.0</td>\n      <td>59010</td>\n      <td>411840</td>\n      <td>NaN</td>\n      <td>2 Oct 2020</td>\n    </tr>\n    <tr>\n      <th>527</th>\n      <td>NY</td>\n      <td>2016</td>\n      <td>3.5</td>\n      <td>17.6</td>\n      <td>59.4</td>\n      <td>35.0</td>\n      <td>35.6</td>\n      <td>116.4</td>\n      <td>145.5</td>\n      <td>157.7</td>\n      <td>...</td>\n      <td>108350</td>\n      <td>234283</td>\n      <td>101.3</td>\n      <td>59.3</td>\n      <td>27.4</td>\n      <td>462.5</td>\n      <td>57690</td>\n      <td>400330</td>\n      <td>NaN</td>\n      <td>2 Oct 2020</td>\n    </tr>\n  </tbody>\n</table>\n<p>16 rows × 103 columns</p>\n</div>"
     },
     "metadata": {},
     "execution_count": 92
    }
   ],
   "source": [
    "nydata = totabort['state'].str.contains('NY')\n",
    "ny_abort_data = abort_df[nydata]\n",
    "ny_abort_data"
   ]
  },
  {
   "cell_type": "code",
   "execution_count": 93,
   "metadata": {},
   "outputs": [
    {
     "output_type": "execute_result",
     "data": {
      "text/plain": [
       "     year  abortionstotal\n",
       "512  1988          179830\n",
       "513  1992          191100\n",
       "514  1996          164080\n",
       "515  2000          161160\n",
       "516  2005          152340\n",
       "517  2006          148030\n",
       "518  2007          144390\n",
       "519  2008          149070\n",
       "520  2009          144390\n",
       "521  2010          139700\n",
       "522  2011          136280\n",
       "523  2012          126630\n",
       "524  2013          116970\n",
       "525  2014          117580\n",
       "526  2015          115560\n",
       "527  2016          108350"
      ],
      "text/html": "<div>\n<style scoped>\n    .dataframe tbody tr th:only-of-type {\n        vertical-align: middle;\n    }\n\n    .dataframe tbody tr th {\n        vertical-align: top;\n    }\n\n    .dataframe thead th {\n        text-align: right;\n    }\n</style>\n<table border=\"1\" class=\"dataframe\">\n  <thead>\n    <tr style=\"text-align: right;\">\n      <th></th>\n      <th>year</th>\n      <th>abortionstotal</th>\n    </tr>\n  </thead>\n  <tbody>\n    <tr>\n      <th>512</th>\n      <td>1988</td>\n      <td>179830</td>\n    </tr>\n    <tr>\n      <th>513</th>\n      <td>1992</td>\n      <td>191100</td>\n    </tr>\n    <tr>\n      <th>514</th>\n      <td>1996</td>\n      <td>164080</td>\n    </tr>\n    <tr>\n      <th>515</th>\n      <td>2000</td>\n      <td>161160</td>\n    </tr>\n    <tr>\n      <th>516</th>\n      <td>2005</td>\n      <td>152340</td>\n    </tr>\n    <tr>\n      <th>517</th>\n      <td>2006</td>\n      <td>148030</td>\n    </tr>\n    <tr>\n      <th>518</th>\n      <td>2007</td>\n      <td>144390</td>\n    </tr>\n    <tr>\n      <th>519</th>\n      <td>2008</td>\n      <td>149070</td>\n    </tr>\n    <tr>\n      <th>520</th>\n      <td>2009</td>\n      <td>144390</td>\n    </tr>\n    <tr>\n      <th>521</th>\n      <td>2010</td>\n      <td>139700</td>\n    </tr>\n    <tr>\n      <th>522</th>\n      <td>2011</td>\n      <td>136280</td>\n    </tr>\n    <tr>\n      <th>523</th>\n      <td>2012</td>\n      <td>126630</td>\n    </tr>\n    <tr>\n      <th>524</th>\n      <td>2013</td>\n      <td>116970</td>\n    </tr>\n    <tr>\n      <th>525</th>\n      <td>2014</td>\n      <td>117580</td>\n    </tr>\n    <tr>\n      <th>526</th>\n      <td>2015</td>\n      <td>115560</td>\n    </tr>\n    <tr>\n      <th>527</th>\n      <td>2016</td>\n      <td>108350</td>\n    </tr>\n  </tbody>\n</table>\n</div>"
     },
     "metadata": {},
     "execution_count": 93
    }
   ],
   "source": [
    "ny_abort_data[['year', 'abortionstotal']]"
   ]
  },
  {
   "cell_type": "code",
   "execution_count": 94,
   "metadata": {},
   "outputs": [],
   "source": [
    "x = ny_abort_data['year'].values\n",
    "y = ny_abort_data['abortionstotal'].values\n"
   ]
  },
  {
   "cell_type": "code",
   "execution_count": 95,
   "metadata": {},
   "outputs": [
    {
     "output_type": "display_data",
     "data": {
      "text/plain": "<Figure size 432x288 with 1 Axes>",
      "image/svg+xml": "<?xml version=\"1.0\" encoding=\"utf-8\" standalone=\"no\"?>\n<!DOCTYPE svg PUBLIC \"-//W3C//DTD SVG 1.1//EN\"\n  \"http://www.w3.org/Graphics/SVG/1.1/DTD/svg11.dtd\">\n<!-- Created with matplotlib (https://matplotlib.org/) -->\n<svg height=\"251.736593pt\" version=\"1.1\" viewBox=\"0 0 394.375 251.736593\" width=\"394.375pt\" xmlns=\"http://www.w3.org/2000/svg\" xmlns:xlink=\"http://www.w3.org/1999/xlink\">\n <metadata>\n  <rdf:RDF xmlns:cc=\"http://creativecommons.org/ns#\" xmlns:dc=\"http://purl.org/dc/elements/1.1/\" xmlns:rdf=\"http://www.w3.org/1999/02/22-rdf-syntax-ns#\">\n   <cc:Work>\n    <dc:type rdf:resource=\"http://purl.org/dc/dcmitype/StillImage\"/>\n    <dc:date>2021-01-26T21:07:25.440430</dc:date>\n    <dc:format>image/svg+xml</dc:format>\n    <dc:creator>\n     <cc:Agent>\n      <dc:title>Matplotlib v3.3.3, https://matplotlib.org/</dc:title>\n     </cc:Agent>\n    </dc:creator>\n   </cc:Work>\n  </rdf:RDF>\n </metadata>\n <defs>\n  <style type=\"text/css\">*{stroke-linecap:butt;stroke-linejoin:round;}</style>\n </defs>\n <g id=\"figure_1\">\n  <g id=\"patch_1\">\n   <path d=\"M 0 251.736593 \nL 394.375 251.736593 \nL 394.375 0 \nL 0 0 \nz\n\" style=\"fill:none;\"/>\n  </g>\n  <g id=\"axes_1\">\n   <g id=\"patch_2\">\n    <path d=\"M 52.375 227.858468 \nL 387.175 227.858468 \nL 387.175 10.418468 \nL 52.375 10.418468 \nz\n\" style=\"fill:#ffffff;\"/>\n   </g>\n   <g id=\"matplotlib.axis_1\">\n    <g id=\"xtick_1\">\n     <g id=\"line2d_1\">\n      <defs>\n       <path d=\"M 0 0 \nL 0 3.5 \n\" id=\"m87b9c68983\" style=\"stroke:#000000;stroke-width:0.8;\"/>\n      </defs>\n      <g>\n       <use style=\"stroke:#000000;stroke-width:0.8;\" x=\"67.593182\" xlink:href=\"#m87b9c68983\" y=\"227.858468\"/>\n      </g>\n     </g>\n     <g id=\"text_1\">\n      <!-- 0 -->\n      <g transform=\"translate(64.411932 242.456905)scale(0.1 -0.1)\">\n       <defs>\n        <path d=\"M 31.78125 66.40625 \nQ 24.171875 66.40625 20.328125 58.90625 \nQ 16.5 51.421875 16.5 36.375 \nQ 16.5 21.390625 20.328125 13.890625 \nQ 24.171875 6.390625 31.78125 6.390625 \nQ 39.453125 6.390625 43.28125 13.890625 \nQ 47.125 21.390625 47.125 36.375 \nQ 47.125 51.421875 43.28125 58.90625 \nQ 39.453125 66.40625 31.78125 66.40625 \nz\nM 31.78125 74.21875 \nQ 44.046875 74.21875 50.515625 64.515625 \nQ 56.984375 54.828125 56.984375 36.375 \nQ 56.984375 17.96875 50.515625 8.265625 \nQ 44.046875 -1.421875 31.78125 -1.421875 \nQ 19.53125 -1.421875 13.0625 8.265625 \nQ 6.59375 17.96875 6.59375 36.375 \nQ 6.59375 54.828125 13.0625 64.515625 \nQ 19.53125 74.21875 31.78125 74.21875 \nz\n\" id=\"DejaVuSans-48\"/>\n       </defs>\n       <use xlink:href=\"#DejaVuSans-48\"/>\n      </g>\n     </g>\n    </g>\n    <g id=\"xtick_2\">\n     <g id=\"line2d_2\">\n      <g>\n       <use style=\"stroke:#000000;stroke-width:0.8;\" x=\"108.175\" xlink:href=\"#m87b9c68983\" y=\"227.858468\"/>\n      </g>\n     </g>\n     <g id=\"text_2\">\n      <!-- 2 -->\n      <g transform=\"translate(104.99375 242.456905)scale(0.1 -0.1)\">\n       <defs>\n        <path d=\"M 19.1875 8.296875 \nL 53.609375 8.296875 \nL 53.609375 0 \nL 7.328125 0 \nL 7.328125 8.296875 \nQ 12.9375 14.109375 22.625 23.890625 \nQ 32.328125 33.6875 34.8125 36.53125 \nQ 39.546875 41.84375 41.421875 45.53125 \nQ 43.3125 49.21875 43.3125 52.78125 \nQ 43.3125 58.59375 39.234375 62.25 \nQ 35.15625 65.921875 28.609375 65.921875 \nQ 23.96875 65.921875 18.8125 64.3125 \nQ 13.671875 62.703125 7.8125 59.421875 \nL 7.8125 69.390625 \nQ 13.765625 71.78125 18.9375 73 \nQ 24.125 74.21875 28.421875 74.21875 \nQ 39.75 74.21875 46.484375 68.546875 \nQ 53.21875 62.890625 53.21875 53.421875 \nQ 53.21875 48.921875 51.53125 44.890625 \nQ 49.859375 40.875 45.40625 35.40625 \nQ 44.1875 33.984375 37.640625 27.21875 \nQ 31.109375 20.453125 19.1875 8.296875 \nz\n\" id=\"DejaVuSans-50\"/>\n       </defs>\n       <use xlink:href=\"#DejaVuSans-50\"/>\n      </g>\n     </g>\n    </g>\n    <g id=\"xtick_3\">\n     <g id=\"line2d_3\">\n      <g>\n       <use style=\"stroke:#000000;stroke-width:0.8;\" x=\"148.756818\" xlink:href=\"#m87b9c68983\" y=\"227.858468\"/>\n      </g>\n     </g>\n     <g id=\"text_3\">\n      <!-- 4 -->\n      <g transform=\"translate(145.575568 242.456905)scale(0.1 -0.1)\">\n       <defs>\n        <path d=\"M 37.796875 64.3125 \nL 12.890625 25.390625 \nL 37.796875 25.390625 \nz\nM 35.203125 72.90625 \nL 47.609375 72.90625 \nL 47.609375 25.390625 \nL 58.015625 25.390625 \nL 58.015625 17.1875 \nL 47.609375 17.1875 \nL 47.609375 0 \nL 37.796875 0 \nL 37.796875 17.1875 \nL 4.890625 17.1875 \nL 4.890625 26.703125 \nz\n\" id=\"DejaVuSans-52\"/>\n       </defs>\n       <use xlink:href=\"#DejaVuSans-52\"/>\n      </g>\n     </g>\n    </g>\n    <g id=\"xtick_4\">\n     <g id=\"line2d_4\">\n      <g>\n       <use style=\"stroke:#000000;stroke-width:0.8;\" x=\"189.338636\" xlink:href=\"#m87b9c68983\" y=\"227.858468\"/>\n      </g>\n     </g>\n     <g id=\"text_4\">\n      <!-- 6 -->\n      <g transform=\"translate(186.157386 242.456905)scale(0.1 -0.1)\">\n       <defs>\n        <path d=\"M 33.015625 40.375 \nQ 26.375 40.375 22.484375 35.828125 \nQ 18.609375 31.296875 18.609375 23.390625 \nQ 18.609375 15.53125 22.484375 10.953125 \nQ 26.375 6.390625 33.015625 6.390625 \nQ 39.65625 6.390625 43.53125 10.953125 \nQ 47.40625 15.53125 47.40625 23.390625 \nQ 47.40625 31.296875 43.53125 35.828125 \nQ 39.65625 40.375 33.015625 40.375 \nz\nM 52.59375 71.296875 \nL 52.59375 62.3125 \nQ 48.875 64.0625 45.09375 64.984375 \nQ 41.3125 65.921875 37.59375 65.921875 \nQ 27.828125 65.921875 22.671875 59.328125 \nQ 17.53125 52.734375 16.796875 39.40625 \nQ 19.671875 43.65625 24.015625 45.921875 \nQ 28.375 48.1875 33.59375 48.1875 \nQ 44.578125 48.1875 50.953125 41.515625 \nQ 57.328125 34.859375 57.328125 23.390625 \nQ 57.328125 12.15625 50.6875 5.359375 \nQ 44.046875 -1.421875 33.015625 -1.421875 \nQ 20.359375 -1.421875 13.671875 8.265625 \nQ 6.984375 17.96875 6.984375 36.375 \nQ 6.984375 53.65625 15.1875 63.9375 \nQ 23.390625 74.21875 37.203125 74.21875 \nQ 40.921875 74.21875 44.703125 73.484375 \nQ 48.484375 72.75 52.59375 71.296875 \nz\n\" id=\"DejaVuSans-54\"/>\n       </defs>\n       <use xlink:href=\"#DejaVuSans-54\"/>\n      </g>\n     </g>\n    </g>\n    <g id=\"xtick_5\">\n     <g id=\"line2d_5\">\n      <g>\n       <use style=\"stroke:#000000;stroke-width:0.8;\" x=\"229.920455\" xlink:href=\"#m87b9c68983\" y=\"227.858468\"/>\n      </g>\n     </g>\n     <g id=\"text_5\">\n      <!-- 8 -->\n      <g transform=\"translate(226.739205 242.456905)scale(0.1 -0.1)\">\n       <defs>\n        <path d=\"M 31.78125 34.625 \nQ 24.75 34.625 20.71875 30.859375 \nQ 16.703125 27.09375 16.703125 20.515625 \nQ 16.703125 13.921875 20.71875 10.15625 \nQ 24.75 6.390625 31.78125 6.390625 \nQ 38.8125 6.390625 42.859375 10.171875 \nQ 46.921875 13.96875 46.921875 20.515625 \nQ 46.921875 27.09375 42.890625 30.859375 \nQ 38.875 34.625 31.78125 34.625 \nz\nM 21.921875 38.8125 \nQ 15.578125 40.375 12.03125 44.71875 \nQ 8.5 49.078125 8.5 55.328125 \nQ 8.5 64.0625 14.71875 69.140625 \nQ 20.953125 74.21875 31.78125 74.21875 \nQ 42.671875 74.21875 48.875 69.140625 \nQ 55.078125 64.0625 55.078125 55.328125 \nQ 55.078125 49.078125 51.53125 44.71875 \nQ 48 40.375 41.703125 38.8125 \nQ 48.828125 37.15625 52.796875 32.3125 \nQ 56.78125 27.484375 56.78125 20.515625 \nQ 56.78125 9.90625 50.3125 4.234375 \nQ 43.84375 -1.421875 31.78125 -1.421875 \nQ 19.734375 -1.421875 13.25 4.234375 \nQ 6.78125 9.90625 6.78125 20.515625 \nQ 6.78125 27.484375 10.78125 32.3125 \nQ 14.796875 37.15625 21.921875 38.8125 \nz\nM 18.3125 54.390625 \nQ 18.3125 48.734375 21.84375 45.5625 \nQ 25.390625 42.390625 31.78125 42.390625 \nQ 38.140625 42.390625 41.71875 45.5625 \nQ 45.3125 48.734375 45.3125 54.390625 \nQ 45.3125 60.0625 41.71875 63.234375 \nQ 38.140625 66.40625 31.78125 66.40625 \nQ 25.390625 66.40625 21.84375 63.234375 \nQ 18.3125 60.0625 18.3125 54.390625 \nz\n\" id=\"DejaVuSans-56\"/>\n       </defs>\n       <use xlink:href=\"#DejaVuSans-56\"/>\n      </g>\n     </g>\n    </g>\n    <g id=\"xtick_6\">\n     <g id=\"line2d_6\">\n      <g>\n       <use style=\"stroke:#000000;stroke-width:0.8;\" x=\"270.502273\" xlink:href=\"#m87b9c68983\" y=\"227.858468\"/>\n      </g>\n     </g>\n     <g id=\"text_6\">\n      <!-- 10 -->\n      <g transform=\"translate(264.139773 242.456905)scale(0.1 -0.1)\">\n       <defs>\n        <path d=\"M 12.40625 8.296875 \nL 28.515625 8.296875 \nL 28.515625 63.921875 \nL 10.984375 60.40625 \nL 10.984375 69.390625 \nL 28.421875 72.90625 \nL 38.28125 72.90625 \nL 38.28125 8.296875 \nL 54.390625 8.296875 \nL 54.390625 0 \nL 12.40625 0 \nz\n\" id=\"DejaVuSans-49\"/>\n       </defs>\n       <use xlink:href=\"#DejaVuSans-49\"/>\n       <use x=\"63.623047\" xlink:href=\"#DejaVuSans-48\"/>\n      </g>\n     </g>\n    </g>\n    <g id=\"xtick_7\">\n     <g id=\"line2d_7\">\n      <g>\n       <use style=\"stroke:#000000;stroke-width:0.8;\" x=\"311.084091\" xlink:href=\"#m87b9c68983\" y=\"227.858468\"/>\n      </g>\n     </g>\n     <g id=\"text_7\">\n      <!-- 12 -->\n      <g transform=\"translate(304.721591 242.456905)scale(0.1 -0.1)\">\n       <use xlink:href=\"#DejaVuSans-49\"/>\n       <use x=\"63.623047\" xlink:href=\"#DejaVuSans-50\"/>\n      </g>\n     </g>\n    </g>\n    <g id=\"xtick_8\">\n     <g id=\"line2d_8\">\n      <g>\n       <use style=\"stroke:#000000;stroke-width:0.8;\" x=\"351.665909\" xlink:href=\"#m87b9c68983\" y=\"227.858468\"/>\n      </g>\n     </g>\n     <g id=\"text_8\">\n      <!-- 14 -->\n      <g transform=\"translate(345.303409 242.456905)scale(0.1 -0.1)\">\n       <use xlink:href=\"#DejaVuSans-49\"/>\n       <use x=\"63.623047\" xlink:href=\"#DejaVuSans-52\"/>\n      </g>\n     </g>\n    </g>\n   </g>\n   <g id=\"matplotlib.axis_2\">\n    <g id=\"ytick_1\">\n     <g id=\"line2d_9\">\n      <defs>\n       <path d=\"M 0 0 \nL -3.5 0 \n\" id=\"m73d6b9a85c\" style=\"stroke:#000000;stroke-width:0.8;\"/>\n      </defs>\n      <g>\n       <use style=\"stroke:#000000;stroke-width:0.8;\" x=\"52.375\" xlink:href=\"#m73d6b9a85c\" y=\"220.052824\"/>\n      </g>\n     </g>\n     <g id=\"text_9\">\n      <!-- 0 -->\n      <g transform=\"translate(39.0125 223.852043)scale(0.1 -0.1)\">\n       <use xlink:href=\"#DejaVuSans-48\"/>\n      </g>\n     </g>\n    </g>\n    <g id=\"ytick_2\">\n     <g id=\"line2d_10\">\n      <g>\n       <use style=\"stroke:#000000;stroke-width:0.8;\" x=\"52.375\" xlink:href=\"#m73d6b9a85c\" y=\"193.921124\"/>\n      </g>\n     </g>\n     <g id=\"text_10\">\n      <!-- 25000 -->\n      <g transform=\"translate(13.5625 197.720342)scale(0.1 -0.1)\">\n       <defs>\n        <path d=\"M 10.796875 72.90625 \nL 49.515625 72.90625 \nL 49.515625 64.59375 \nL 19.828125 64.59375 \nL 19.828125 46.734375 \nQ 21.96875 47.46875 24.109375 47.828125 \nQ 26.265625 48.1875 28.421875 48.1875 \nQ 40.625 48.1875 47.75 41.5 \nQ 54.890625 34.8125 54.890625 23.390625 \nQ 54.890625 11.625 47.5625 5.09375 \nQ 40.234375 -1.421875 26.90625 -1.421875 \nQ 22.3125 -1.421875 17.546875 -0.640625 \nQ 12.796875 0.140625 7.71875 1.703125 \nL 7.71875 11.625 \nQ 12.109375 9.234375 16.796875 8.0625 \nQ 21.484375 6.890625 26.703125 6.890625 \nQ 35.15625 6.890625 40.078125 11.328125 \nQ 45.015625 15.765625 45.015625 23.390625 \nQ 45.015625 31 40.078125 35.4375 \nQ 35.15625 39.890625 26.703125 39.890625 \nQ 22.75 39.890625 18.8125 39.015625 \nQ 14.890625 38.140625 10.796875 36.28125 \nz\n\" id=\"DejaVuSans-53\"/>\n       </defs>\n       <use xlink:href=\"#DejaVuSans-50\"/>\n       <use x=\"63.623047\" xlink:href=\"#DejaVuSans-53\"/>\n       <use x=\"127.246094\" xlink:href=\"#DejaVuSans-48\"/>\n       <use x=\"190.869141\" xlink:href=\"#DejaVuSans-48\"/>\n       <use x=\"254.492188\" xlink:href=\"#DejaVuSans-48\"/>\n      </g>\n     </g>\n    </g>\n    <g id=\"ytick_3\">\n     <g id=\"line2d_11\">\n      <g>\n       <use style=\"stroke:#000000;stroke-width:0.8;\" x=\"52.375\" xlink:href=\"#m73d6b9a85c\" y=\"167.789423\"/>\n      </g>\n     </g>\n     <g id=\"text_11\">\n      <!-- 50000 -->\n      <g transform=\"translate(13.5625 171.588642)scale(0.1 -0.1)\">\n       <use xlink:href=\"#DejaVuSans-53\"/>\n       <use x=\"63.623047\" xlink:href=\"#DejaVuSans-48\"/>\n       <use x=\"127.246094\" xlink:href=\"#DejaVuSans-48\"/>\n       <use x=\"190.869141\" xlink:href=\"#DejaVuSans-48\"/>\n       <use x=\"254.492188\" xlink:href=\"#DejaVuSans-48\"/>\n      </g>\n     </g>\n    </g>\n    <g id=\"ytick_4\">\n     <g id=\"line2d_12\">\n      <g>\n       <use style=\"stroke:#000000;stroke-width:0.8;\" x=\"52.375\" xlink:href=\"#m73d6b9a85c\" y=\"141.657722\"/>\n      </g>\n     </g>\n     <g id=\"text_12\">\n      <!-- 75000 -->\n      <g transform=\"translate(13.5625 145.456941)scale(0.1 -0.1)\">\n       <defs>\n        <path d=\"M 8.203125 72.90625 \nL 55.078125 72.90625 \nL 55.078125 68.703125 \nL 28.609375 0 \nL 18.3125 0 \nL 43.21875 64.59375 \nL 8.203125 64.59375 \nz\n\" id=\"DejaVuSans-55\"/>\n       </defs>\n       <use xlink:href=\"#DejaVuSans-55\"/>\n       <use x=\"63.623047\" xlink:href=\"#DejaVuSans-53\"/>\n       <use x=\"127.246094\" xlink:href=\"#DejaVuSans-48\"/>\n       <use x=\"190.869141\" xlink:href=\"#DejaVuSans-48\"/>\n       <use x=\"254.492188\" xlink:href=\"#DejaVuSans-48\"/>\n      </g>\n     </g>\n    </g>\n    <g id=\"ytick_5\">\n     <g id=\"line2d_13\">\n      <g>\n       <use style=\"stroke:#000000;stroke-width:0.8;\" x=\"52.375\" xlink:href=\"#m73d6b9a85c\" y=\"115.526022\"/>\n      </g>\n     </g>\n     <g id=\"text_13\">\n      <!-- 100000 -->\n      <g transform=\"translate(7.2 119.32524)scale(0.1 -0.1)\">\n       <use xlink:href=\"#DejaVuSans-49\"/>\n       <use x=\"63.623047\" xlink:href=\"#DejaVuSans-48\"/>\n       <use x=\"127.246094\" xlink:href=\"#DejaVuSans-48\"/>\n       <use x=\"190.869141\" xlink:href=\"#DejaVuSans-48\"/>\n       <use x=\"254.492188\" xlink:href=\"#DejaVuSans-48\"/>\n       <use x=\"318.115234\" xlink:href=\"#DejaVuSans-48\"/>\n      </g>\n     </g>\n    </g>\n    <g id=\"ytick_6\">\n     <g id=\"line2d_14\">\n      <g>\n       <use style=\"stroke:#000000;stroke-width:0.8;\" x=\"52.375\" xlink:href=\"#m73d6b9a85c\" y=\"89.394321\"/>\n      </g>\n     </g>\n     <g id=\"text_14\">\n      <!-- 125000 -->\n      <g transform=\"translate(7.2 93.19354)scale(0.1 -0.1)\">\n       <use xlink:href=\"#DejaVuSans-49\"/>\n       <use x=\"63.623047\" xlink:href=\"#DejaVuSans-50\"/>\n       <use x=\"127.246094\" xlink:href=\"#DejaVuSans-53\"/>\n       <use x=\"190.869141\" xlink:href=\"#DejaVuSans-48\"/>\n       <use x=\"254.492188\" xlink:href=\"#DejaVuSans-48\"/>\n       <use x=\"318.115234\" xlink:href=\"#DejaVuSans-48\"/>\n      </g>\n     </g>\n    </g>\n    <g id=\"ytick_7\">\n     <g id=\"line2d_15\">\n      <g>\n       <use style=\"stroke:#000000;stroke-width:0.8;\" x=\"52.375\" xlink:href=\"#m73d6b9a85c\" y=\"63.26262\"/>\n      </g>\n     </g>\n     <g id=\"text_15\">\n      <!-- 150000 -->\n      <g transform=\"translate(7.2 67.061839)scale(0.1 -0.1)\">\n       <use xlink:href=\"#DejaVuSans-49\"/>\n       <use x=\"63.623047\" xlink:href=\"#DejaVuSans-53\"/>\n       <use x=\"127.246094\" xlink:href=\"#DejaVuSans-48\"/>\n       <use x=\"190.869141\" xlink:href=\"#DejaVuSans-48\"/>\n       <use x=\"254.492188\" xlink:href=\"#DejaVuSans-48\"/>\n       <use x=\"318.115234\" xlink:href=\"#DejaVuSans-48\"/>\n      </g>\n     </g>\n    </g>\n    <g id=\"ytick_8\">\n     <g id=\"line2d_16\">\n      <g>\n       <use style=\"stroke:#000000;stroke-width:0.8;\" x=\"52.375\" xlink:href=\"#m73d6b9a85c\" y=\"37.130919\"/>\n      </g>\n     </g>\n     <g id=\"text_16\">\n      <!-- 175000 -->\n      <g transform=\"translate(7.2 40.930138)scale(0.1 -0.1)\">\n       <use xlink:href=\"#DejaVuSans-49\"/>\n       <use x=\"63.623047\" xlink:href=\"#DejaVuSans-55\"/>\n       <use x=\"127.246094\" xlink:href=\"#DejaVuSans-53\"/>\n       <use x=\"190.869141\" xlink:href=\"#DejaVuSans-48\"/>\n       <use x=\"254.492188\" xlink:href=\"#DejaVuSans-48\"/>\n       <use x=\"318.115234\" xlink:href=\"#DejaVuSans-48\"/>\n      </g>\n     </g>\n    </g>\n    <g id=\"ytick_9\">\n     <g id=\"line2d_17\">\n      <g>\n       <use style=\"stroke:#000000;stroke-width:0.8;\" x=\"52.375\" xlink:href=\"#m73d6b9a85c\" y=\"10.999219\"/>\n      </g>\n     </g>\n     <g id=\"text_17\">\n      <!-- 200000 -->\n      <g transform=\"translate(7.2 14.798437)scale(0.1 -0.1)\">\n       <use xlink:href=\"#DejaVuSans-50\"/>\n       <use x=\"63.623047\" xlink:href=\"#DejaVuSans-48\"/>\n       <use x=\"127.246094\" xlink:href=\"#DejaVuSans-48\"/>\n       <use x=\"190.869141\" xlink:href=\"#DejaVuSans-48\"/>\n       <use x=\"254.492188\" xlink:href=\"#DejaVuSans-48\"/>\n       <use x=\"318.115234\" xlink:href=\"#DejaVuSans-48\"/>\n      </g>\n     </g>\n    </g>\n   </g>\n   <g id=\"line2d_18\">\n    <path clip-path=\"url(#p0bf0929466)\" d=\"M 67.593182 217.974831 \nL 87.884091 217.97065 \nL 108.175 217.966469 \nL 128.465909 217.962288 \nL 148.756818 217.957062 \nL 169.047727 217.956017 \nL 189.338636 217.954971 \nL 209.629545 217.953926 \nL 229.920455 217.952881 \nL 250.211364 217.951836 \nL 270.502273 217.95079 \nL 290.793182 217.949745 \nL 311.084091 217.9487 \nL 331.375 217.947655 \nL 351.665909 217.946609 \nL 371.956818 217.945564 \n\" style=\"fill:none;stroke:#ff0000;stroke-linecap:square;stroke-width:1.5;\"/>\n   </g>\n   <g id=\"line2d_19\">\n    <path clip-path=\"url(#p0bf0929466)\" d=\"M 67.593182 32.082275 \nL 87.884091 20.302104 \nL 108.175 48.545246 \nL 128.465909 51.597429 \nL 148.756818 60.816693 \nL 169.047727 65.321798 \nL 189.338636 69.126574 \nL 209.629545 64.234719 \nL 229.920455 69.126574 \nL 250.211364 74.028881 \nL 270.502273 77.603697 \nL 290.793182 87.690534 \nL 311.084091 97.787823 \nL 331.375 97.15021 \nL 351.665909 99.261651 \nL 371.956818 106.798033 \n\" style=\"fill:none;stroke:#0000ff;stroke-linecap:square;stroke-width:1.5;\"/>\n   </g>\n   <g id=\"patch_3\">\n    <path d=\"M 52.375 227.858468 \nL 52.375 10.418468 \n\" style=\"fill:none;stroke:#000000;stroke-linecap:square;stroke-linejoin:miter;stroke-width:0.8;\"/>\n   </g>\n   <g id=\"patch_4\">\n    <path d=\"M 387.175 227.858468 \nL 387.175 10.418468 \n\" style=\"fill:none;stroke:#000000;stroke-linecap:square;stroke-linejoin:miter;stroke-width:0.8;\"/>\n   </g>\n   <g id=\"patch_5\">\n    <path d=\"M 52.375 227.858468 \nL 387.175 227.858468 \n\" style=\"fill:none;stroke:#000000;stroke-linecap:square;stroke-linejoin:miter;stroke-width:0.8;\"/>\n   </g>\n   <g id=\"patch_6\">\n    <path d=\"M 52.375 10.418468 \nL 387.175 10.418468 \n\" style=\"fill:none;stroke:#000000;stroke-linecap:square;stroke-linejoin:miter;stroke-width:0.8;\"/>\n   </g>\n   <g id=\"legend_1\">\n    <g id=\"patch_7\">\n     <path d=\"M 273.860938 47.774718 \nL 380.175 47.774718 \nQ 382.175 47.774718 382.175 45.774718 \nL 382.175 17.418468 \nQ 382.175 15.418468 380.175 15.418468 \nL 273.860938 15.418468 \nQ 271.860938 15.418468 271.860938 17.418468 \nL 271.860938 45.774718 \nQ 271.860938 47.774718 273.860938 47.774718 \nz\n\" style=\"fill:#ffffff;opacity:0.8;stroke:#cccccc;stroke-linejoin:miter;\"/>\n    </g>\n    <g id=\"line2d_20\">\n     <path d=\"M 275.860938 23.516905 \nL 295.860938 23.516905 \n\" style=\"fill:none;stroke:#ff0000;stroke-linecap:square;stroke-width:1.5;\"/>\n    </g>\n    <g id=\"line2d_21\"/>\n    <g id=\"text_18\">\n     <!-- Years -->\n     <g transform=\"translate(303.860938 27.016905)scale(0.1 -0.1)\">\n      <defs>\n       <path d=\"M -0.203125 72.90625 \nL 10.40625 72.90625 \nL 30.609375 42.921875 \nL 50.6875 72.90625 \nL 61.28125 72.90625 \nL 35.5 34.71875 \nL 35.5 0 \nL 25.59375 0 \nL 25.59375 34.71875 \nz\n\" id=\"DejaVuSans-89\"/>\n       <path d=\"M 56.203125 29.59375 \nL 56.203125 25.203125 \nL 14.890625 25.203125 \nQ 15.484375 15.921875 20.484375 11.0625 \nQ 25.484375 6.203125 34.421875 6.203125 \nQ 39.59375 6.203125 44.453125 7.46875 \nQ 49.3125 8.734375 54.109375 11.28125 \nL 54.109375 2.78125 \nQ 49.265625 0.734375 44.1875 -0.34375 \nQ 39.109375 -1.421875 33.890625 -1.421875 \nQ 20.796875 -1.421875 13.15625 6.1875 \nQ 5.515625 13.8125 5.515625 26.8125 \nQ 5.515625 40.234375 12.765625 48.109375 \nQ 20.015625 56 32.328125 56 \nQ 43.359375 56 49.78125 48.890625 \nQ 56.203125 41.796875 56.203125 29.59375 \nz\nM 47.21875 32.234375 \nQ 47.125 39.59375 43.09375 43.984375 \nQ 39.0625 48.390625 32.421875 48.390625 \nQ 24.90625 48.390625 20.390625 44.140625 \nQ 15.875 39.890625 15.1875 32.171875 \nz\n\" id=\"DejaVuSans-101\"/>\n       <path d=\"M 34.28125 27.484375 \nQ 23.390625 27.484375 19.1875 25 \nQ 14.984375 22.515625 14.984375 16.5 \nQ 14.984375 11.71875 18.140625 8.90625 \nQ 21.296875 6.109375 26.703125 6.109375 \nQ 34.1875 6.109375 38.703125 11.40625 \nQ 43.21875 16.703125 43.21875 25.484375 \nL 43.21875 27.484375 \nz\nM 52.203125 31.203125 \nL 52.203125 0 \nL 43.21875 0 \nL 43.21875 8.296875 \nQ 40.140625 3.328125 35.546875 0.953125 \nQ 30.953125 -1.421875 24.3125 -1.421875 \nQ 15.921875 -1.421875 10.953125 3.296875 \nQ 6 8.015625 6 15.921875 \nQ 6 25.140625 12.171875 29.828125 \nQ 18.359375 34.515625 30.609375 34.515625 \nL 43.21875 34.515625 \nL 43.21875 35.40625 \nQ 43.21875 41.609375 39.140625 45 \nQ 35.0625 48.390625 27.6875 48.390625 \nQ 23 48.390625 18.546875 47.265625 \nQ 14.109375 46.140625 10.015625 43.890625 \nL 10.015625 52.203125 \nQ 14.9375 54.109375 19.578125 55.046875 \nQ 24.21875 56 28.609375 56 \nQ 40.484375 56 46.34375 49.84375 \nQ 52.203125 43.703125 52.203125 31.203125 \nz\n\" id=\"DejaVuSans-97\"/>\n       <path d=\"M 41.109375 46.296875 \nQ 39.59375 47.171875 37.8125 47.578125 \nQ 36.03125 48 33.890625 48 \nQ 26.265625 48 22.1875 43.046875 \nQ 18.109375 38.09375 18.109375 28.8125 \nL 18.109375 0 \nL 9.078125 0 \nL 9.078125 54.6875 \nL 18.109375 54.6875 \nL 18.109375 46.1875 \nQ 20.953125 51.171875 25.484375 53.578125 \nQ 30.03125 56 36.53125 56 \nQ 37.453125 56 38.578125 55.875 \nQ 39.703125 55.765625 41.0625 55.515625 \nz\n\" id=\"DejaVuSans-114\"/>\n       <path d=\"M 44.28125 53.078125 \nL 44.28125 44.578125 \nQ 40.484375 46.53125 36.375 47.5 \nQ 32.28125 48.484375 27.875 48.484375 \nQ 21.1875 48.484375 17.84375 46.4375 \nQ 14.5 44.390625 14.5 40.28125 \nQ 14.5 37.15625 16.890625 35.375 \nQ 19.28125 33.59375 26.515625 31.984375 \nL 29.59375 31.296875 \nQ 39.15625 29.25 43.1875 25.515625 \nQ 47.21875 21.78125 47.21875 15.09375 \nQ 47.21875 7.46875 41.1875 3.015625 \nQ 35.15625 -1.421875 24.609375 -1.421875 \nQ 20.21875 -1.421875 15.453125 -0.5625 \nQ 10.6875 0.296875 5.421875 2 \nL 5.421875 11.28125 \nQ 10.40625 8.6875 15.234375 7.390625 \nQ 20.0625 6.109375 24.8125 6.109375 \nQ 31.15625 6.109375 34.5625 8.28125 \nQ 37.984375 10.453125 37.984375 14.40625 \nQ 37.984375 18.0625 35.515625 20.015625 \nQ 33.0625 21.96875 24.703125 23.78125 \nL 21.578125 24.515625 \nQ 13.234375 26.265625 9.515625 29.90625 \nQ 5.8125 33.546875 5.8125 39.890625 \nQ 5.8125 47.609375 11.28125 51.796875 \nQ 16.75 56 26.8125 56 \nQ 31.78125 56 36.171875 55.265625 \nQ 40.578125 54.546875 44.28125 53.078125 \nz\n\" id=\"DejaVuSans-115\"/>\n      </defs>\n      <use xlink:href=\"#DejaVuSans-89\"/>\n      <use x=\"47.833984\" xlink:href=\"#DejaVuSans-101\"/>\n      <use x=\"109.357422\" xlink:href=\"#DejaVuSans-97\"/>\n      <use x=\"170.636719\" xlink:href=\"#DejaVuSans-114\"/>\n      <use x=\"211.75\" xlink:href=\"#DejaVuSans-115\"/>\n     </g>\n    </g>\n    <g id=\"line2d_22\">\n     <path d=\"M 275.860938 38.19503 \nL 295.860938 38.19503 \n\" style=\"fill:none;stroke:#0000ff;stroke-linecap:square;stroke-width:1.5;\"/>\n    </g>\n    <g id=\"line2d_23\"/>\n    <g id=\"text_19\">\n     <!-- Total Abortions -->\n     <g transform=\"translate(303.860938 41.69503)scale(0.1 -0.1)\">\n      <defs>\n       <path d=\"M -0.296875 72.90625 \nL 61.375 72.90625 \nL 61.375 64.59375 \nL 35.5 64.59375 \nL 35.5 0 \nL 25.59375 0 \nL 25.59375 64.59375 \nL -0.296875 64.59375 \nz\n\" id=\"DejaVuSans-84\"/>\n       <path d=\"M 30.609375 48.390625 \nQ 23.390625 48.390625 19.1875 42.75 \nQ 14.984375 37.109375 14.984375 27.296875 \nQ 14.984375 17.484375 19.15625 11.84375 \nQ 23.34375 6.203125 30.609375 6.203125 \nQ 37.796875 6.203125 41.984375 11.859375 \nQ 46.1875 17.53125 46.1875 27.296875 \nQ 46.1875 37.015625 41.984375 42.703125 \nQ 37.796875 48.390625 30.609375 48.390625 \nz\nM 30.609375 56 \nQ 42.328125 56 49.015625 48.375 \nQ 55.71875 40.765625 55.71875 27.296875 \nQ 55.71875 13.875 49.015625 6.21875 \nQ 42.328125 -1.421875 30.609375 -1.421875 \nQ 18.84375 -1.421875 12.171875 6.21875 \nQ 5.515625 13.875 5.515625 27.296875 \nQ 5.515625 40.765625 12.171875 48.375 \nQ 18.84375 56 30.609375 56 \nz\n\" id=\"DejaVuSans-111\"/>\n       <path d=\"M 18.3125 70.21875 \nL 18.3125 54.6875 \nL 36.8125 54.6875 \nL 36.8125 47.703125 \nL 18.3125 47.703125 \nL 18.3125 18.015625 \nQ 18.3125 11.328125 20.140625 9.421875 \nQ 21.96875 7.515625 27.59375 7.515625 \nL 36.8125 7.515625 \nL 36.8125 0 \nL 27.59375 0 \nQ 17.1875 0 13.234375 3.875 \nQ 9.28125 7.765625 9.28125 18.015625 \nL 9.28125 47.703125 \nL 2.6875 47.703125 \nL 2.6875 54.6875 \nL 9.28125 54.6875 \nL 9.28125 70.21875 \nz\n\" id=\"DejaVuSans-116\"/>\n       <path d=\"M 9.421875 75.984375 \nL 18.40625 75.984375 \nL 18.40625 0 \nL 9.421875 0 \nz\n\" id=\"DejaVuSans-108\"/>\n       <path id=\"DejaVuSans-32\"/>\n       <path d=\"M 34.1875 63.1875 \nL 20.796875 26.90625 \nL 47.609375 26.90625 \nz\nM 28.609375 72.90625 \nL 39.796875 72.90625 \nL 67.578125 0 \nL 57.328125 0 \nL 50.6875 18.703125 \nL 17.828125 18.703125 \nL 11.1875 0 \nL 0.78125 0 \nz\n\" id=\"DejaVuSans-65\"/>\n       <path d=\"M 48.6875 27.296875 \nQ 48.6875 37.203125 44.609375 42.84375 \nQ 40.53125 48.484375 33.40625 48.484375 \nQ 26.265625 48.484375 22.1875 42.84375 \nQ 18.109375 37.203125 18.109375 27.296875 \nQ 18.109375 17.390625 22.1875 11.75 \nQ 26.265625 6.109375 33.40625 6.109375 \nQ 40.53125 6.109375 44.609375 11.75 \nQ 48.6875 17.390625 48.6875 27.296875 \nz\nM 18.109375 46.390625 \nQ 20.953125 51.265625 25.265625 53.625 \nQ 29.59375 56 35.59375 56 \nQ 45.5625 56 51.78125 48.09375 \nQ 58.015625 40.1875 58.015625 27.296875 \nQ 58.015625 14.40625 51.78125 6.484375 \nQ 45.5625 -1.421875 35.59375 -1.421875 \nQ 29.59375 -1.421875 25.265625 0.953125 \nQ 20.953125 3.328125 18.109375 8.203125 \nL 18.109375 0 \nL 9.078125 0 \nL 9.078125 75.984375 \nL 18.109375 75.984375 \nz\n\" id=\"DejaVuSans-98\"/>\n       <path d=\"M 9.421875 54.6875 \nL 18.40625 54.6875 \nL 18.40625 0 \nL 9.421875 0 \nz\nM 9.421875 75.984375 \nL 18.40625 75.984375 \nL 18.40625 64.59375 \nL 9.421875 64.59375 \nz\n\" id=\"DejaVuSans-105\"/>\n       <path d=\"M 54.890625 33.015625 \nL 54.890625 0 \nL 45.90625 0 \nL 45.90625 32.71875 \nQ 45.90625 40.484375 42.875 44.328125 \nQ 39.84375 48.1875 33.796875 48.1875 \nQ 26.515625 48.1875 22.3125 43.546875 \nQ 18.109375 38.921875 18.109375 30.90625 \nL 18.109375 0 \nL 9.078125 0 \nL 9.078125 54.6875 \nL 18.109375 54.6875 \nL 18.109375 46.1875 \nQ 21.34375 51.125 25.703125 53.5625 \nQ 30.078125 56 35.796875 56 \nQ 45.21875 56 50.046875 50.171875 \nQ 54.890625 44.34375 54.890625 33.015625 \nz\n\" id=\"DejaVuSans-110\"/>\n      </defs>\n      <use xlink:href=\"#DejaVuSans-84\"/>\n      <use x=\"44.083984\" xlink:href=\"#DejaVuSans-111\"/>\n      <use x=\"105.265625\" xlink:href=\"#DejaVuSans-116\"/>\n      <use x=\"144.474609\" xlink:href=\"#DejaVuSans-97\"/>\n      <use x=\"205.753906\" xlink:href=\"#DejaVuSans-108\"/>\n      <use x=\"233.537109\" xlink:href=\"#DejaVuSans-32\"/>\n      <use x=\"265.324219\" xlink:href=\"#DejaVuSans-65\"/>\n      <use x=\"333.732422\" xlink:href=\"#DejaVuSans-98\"/>\n      <use x=\"397.208984\" xlink:href=\"#DejaVuSans-111\"/>\n      <use x=\"458.390625\" xlink:href=\"#DejaVuSans-114\"/>\n      <use x=\"499.503906\" xlink:href=\"#DejaVuSans-116\"/>\n      <use x=\"538.712891\" xlink:href=\"#DejaVuSans-105\"/>\n      <use x=\"566.496094\" xlink:href=\"#DejaVuSans-111\"/>\n      <use x=\"627.677734\" xlink:href=\"#DejaVuSans-110\"/>\n      <use x=\"691.056641\" xlink:href=\"#DejaVuSans-115\"/>\n     </g>\n    </g>\n   </g>\n  </g>\n </g>\n <defs>\n  <clipPath id=\"p0bf0929466\">\n   <rect height=\"217.44\" width=\"334.8\" x=\"52.375\" y=\"10.418468\"/>\n  </clipPath>\n </defs>\n</svg>\n",
      "image/png": "[encoded data removed]"
     },
     "metadata": {
      "needs_background": "light"
     }
    }
   ],
   "source": [
    "plt.figure()\n",
    "plt.plot(x, label='Years', color='red')\n",
    "plt.plot(y, label='Total Abortions', color='blue')\n",
    "plt.legend()\n",
    "plt.show()"
   ]
  },
  {
   "cell_type": "code",
   "execution_count": 96,
   "metadata": {},
   "outputs": [],
   "source": [
    "# r = ny_abort_data['year'].values\n",
    "# s = ny_abort_data['abortionstotal'].values"
   ]
  },
  {
   "cell_type": "code",
   "execution_count": 97,
   "metadata": {},
   "outputs": [
    {
     "output_type": "execute_result",
     "data": {
      "text/plain": [
       "                                     OFFENSE   2000   2001   2002   2003  \\\n",
       "0       FELONY POSSESSION OF STOLEN PROPERTY   2194   2114   1976   1545   \n",
       "1         FORGERY/THEFT_FRAUD/IDENTITY THEFT   5714   5594   5859   8112   \n",
       "2                                      ARSON   3189   2681   1902   1492   \n",
       "3                      FELONY SEX CRIMES (3)   1839   1831   1513   1295   \n",
       "4                 FELONY DANGEROUS DRUGS (1)  38088  30743  29692  24076   \n",
       "5               FELONY DANGEROUS WEAPONS (2)   2958   3030   2804   2511   \n",
       "6  FEL. CRIMINAL MISCHIEF & RELATED OFFENSES  12934  16026  13291   8400   \n",
       "7                         OTHER FELONIES (4)  13945  13059  13956  13786   \n",
       "8                                      total  80861  75078  70993  61217   \n",
       "\n",
       "    2004   2005   2006   2007   2008  ...   2010   2011   2012   2013   2014  \\\n",
       "0   1358   1250   1175   1073   1016  ...    864    823    711    689   1090   \n",
       "1  12984  12896  12579  12075  12216  ...  10055   9876  10233   9493   9520   \n",
       "2   1789   1831   1679   1527   1896  ...   1467   1264   1253   1187   1205   \n",
       "3   1263   1162   1096   1031    909  ...   1053   1028   1380   1073   1135   \n",
       "4  25824  27391  29516  31459  28936  ...  22913  21305  19680  19571  17113   \n",
       "5   2987   3748   4315   5004   5263  ...   5413   5037   4979   5155   4605   \n",
       "6   8074   7776   7605   7090   7003  ...   6006   6374   6737   7468   8466   \n",
       "7  12454  11800  11063  11699  11719  ...  11616  11533  11929  13014  13735   \n",
       "8  66733  67854  69028  70958  68958  ...  59387  57240  56902  57650  56869   \n",
       "\n",
       "    2015   2016   2017   2018   2019  \n",
       "0    904    769   1019    951    733  \n",
       "1  10400  11079  10063   9413   8684  \n",
       "2   1026    802    680    741    711  \n",
       "3   1152   1336   1367   1615   1562  \n",
       "4  15279  14712  13348  11236   9587  \n",
       "5   4848   5465   4843   4639   4219  \n",
       "6   9253   9966  10073  10427  11302  \n",
       "7  13658  14217  13514  13645  14686  \n",
       "8  56520  58346  54907  52667  51484  \n",
       "\n",
       "[9 rows x 21 columns]"
      ],
      "text/html": "<div>\n<style scoped>\n    .dataframe tbody tr th:only-of-type {\n        vertical-align: middle;\n    }\n\n    .dataframe tbody tr th {\n        vertical-align: top;\n    }\n\n    .dataframe thead th {\n        text-align: right;\n    }\n</style>\n<table border=\"1\" class=\"dataframe\">\n  <thead>\n    <tr style=\"text-align: right;\">\n      <th></th>\n      <th>OFFENSE</th>\n      <th>2000</th>\n      <th>2001</th>\n      <th>2002</th>\n      <th>2003</th>\n      <th>2004</th>\n      <th>2005</th>\n      <th>2006</th>\n      <th>2007</th>\n      <th>2008</th>\n      <th>...</th>\n      <th>2010</th>\n      <th>2011</th>\n      <th>2012</th>\n      <th>2013</th>\n      <th>2014</th>\n      <th>2015</th>\n      <th>2016</th>\n      <th>2017</th>\n      <th>2018</th>\n      <th>2019</th>\n    </tr>\n  </thead>\n  <tbody>\n    <tr>\n      <th>0</th>\n      <td>FELONY POSSESSION OF STOLEN PROPERTY</td>\n      <td>2194</td>\n      <td>2114</td>\n      <td>1976</td>\n      <td>1545</td>\n      <td>1358</td>\n      <td>1250</td>\n      <td>1175</td>\n      <td>1073</td>\n      <td>1016</td>\n      <td>...</td>\n      <td>864</td>\n      <td>823</td>\n      <td>711</td>\n      <td>689</td>\n      <td>1090</td>\n      <td>904</td>\n      <td>769</td>\n      <td>1019</td>\n      <td>951</td>\n      <td>733</td>\n    </tr>\n    <tr>\n      <th>1</th>\n      <td>FORGERY/THEFT_FRAUD/IDENTITY THEFT</td>\n      <td>5714</td>\n      <td>5594</td>\n      <td>5859</td>\n      <td>8112</td>\n      <td>12984</td>\n      <td>12896</td>\n      <td>12579</td>\n      <td>12075</td>\n      <td>12216</td>\n      <td>...</td>\n      <td>10055</td>\n      <td>9876</td>\n      <td>10233</td>\n      <td>9493</td>\n      <td>9520</td>\n      <td>10400</td>\n      <td>11079</td>\n      <td>10063</td>\n      <td>9413</td>\n      <td>8684</td>\n    </tr>\n    <tr>\n      <th>2</th>\n      <td>ARSON</td>\n      <td>3189</td>\n      <td>2681</td>\n      <td>1902</td>\n      <td>1492</td>\n      <td>1789</td>\n      <td>1831</td>\n      <td>1679</td>\n      <td>1527</td>\n      <td>1896</td>\n      <td>...</td>\n      <td>1467</td>\n      <td>1264</td>\n      <td>1253</td>\n      <td>1187</td>\n      <td>1205</td>\n      <td>1026</td>\n      <td>802</td>\n      <td>680</td>\n      <td>741</td>\n      <td>711</td>\n    </tr>\n    <tr>\n      <th>3</th>\n      <td>FELONY SEX CRIMES (3)</td>\n      <td>1839</td>\n      <td>1831</td>\n      <td>1513</td>\n      <td>1295</td>\n      <td>1263</td>\n      <td>1162</td>\n      <td>1096</td>\n      <td>1031</td>\n      <td>909</td>\n      <td>...</td>\n      <td>1053</td>\n      <td>1028</td>\n      <td>1380</td>\n      <td>1073</td>\n      <td>1135</td>\n      <td>1152</td>\n      <td>1336</td>\n      <td>1367</td>\n      <td>1615</td>\n      <td>1562</td>\n    </tr>\n    <tr>\n      <th>4</th>\n      <td>FELONY DANGEROUS DRUGS (1)</td>\n      <td>38088</td>\n      <td>30743</td>\n      <td>29692</td>\n      <td>24076</td>\n      <td>25824</td>\n      <td>27391</td>\n      <td>29516</td>\n      <td>31459</td>\n      <td>28936</td>\n      <td>...</td>\n      <td>22913</td>\n      <td>21305</td>\n      <td>19680</td>\n      <td>19571</td>\n      <td>17113</td>\n      <td>15279</td>\n      <td>14712</td>\n      <td>13348</td>\n      <td>11236</td>\n      <td>9587</td>\n    </tr>\n    <tr>\n      <th>5</th>\n      <td>FELONY DANGEROUS WEAPONS (2)</td>\n      <td>2958</td>\n      <td>3030</td>\n      <td>2804</td>\n      <td>2511</td>\n      <td>2987</td>\n      <td>3748</td>\n      <td>4315</td>\n      <td>5004</td>\n      <td>5263</td>\n      <td>...</td>\n      <td>5413</td>\n      <td>5037</td>\n      <td>4979</td>\n      <td>5155</td>\n      <td>4605</td>\n      <td>4848</td>\n      <td>5465</td>\n      <td>4843</td>\n      <td>4639</td>\n      <td>4219</td>\n    </tr>\n    <tr>\n      <th>6</th>\n      <td>FEL. CRIMINAL MISCHIEF &amp; RELATED OFFENSES</td>\n      <td>12934</td>\n      <td>16026</td>\n      <td>13291</td>\n      <td>8400</td>\n      <td>8074</td>\n      <td>7776</td>\n      <td>7605</td>\n      <td>7090</td>\n      <td>7003</td>\n      <td>...</td>\n      <td>6006</td>\n      <td>6374</td>\n      <td>6737</td>\n      <td>7468</td>\n      <td>8466</td>\n      <td>9253</td>\n      <td>9966</td>\n      <td>10073</td>\n      <td>10427</td>\n      <td>11302</td>\n    </tr>\n    <tr>\n      <th>7</th>\n      <td>OTHER FELONIES (4)</td>\n      <td>13945</td>\n      <td>13059</td>\n      <td>13956</td>\n      <td>13786</td>\n      <td>12454</td>\n      <td>11800</td>\n      <td>11063</td>\n      <td>11699</td>\n      <td>11719</td>\n      <td>...</td>\n      <td>11616</td>\n      <td>11533</td>\n      <td>11929</td>\n      <td>13014</td>\n      <td>13735</td>\n      <td>13658</td>\n      <td>14217</td>\n      <td>13514</td>\n      <td>13645</td>\n      <td>14686</td>\n    </tr>\n    <tr>\n      <th>8</th>\n      <td>total</td>\n      <td>80861</td>\n      <td>75078</td>\n      <td>70993</td>\n      <td>61217</td>\n      <td>66733</td>\n      <td>67854</td>\n      <td>69028</td>\n      <td>70958</td>\n      <td>68958</td>\n      <td>...</td>\n      <td>59387</td>\n      <td>57240</td>\n      <td>56902</td>\n      <td>57650</td>\n      <td>56869</td>\n      <td>56520</td>\n      <td>58346</td>\n      <td>54907</td>\n      <td>52667</td>\n      <td>51484</td>\n    </tr>\n  </tbody>\n</table>\n<p>9 rows × 21 columns</p>\n</div>"
     },
     "metadata": {},
     "execution_count": 97
    }
   ],
   "source": [
    "ny_crime_df = pd.read_csv('felony-offenses-2000-2019.csv')\n",
    "ny_crime_df"
   ]
  },
  {
   "cell_type": "code",
   "execution_count": 98,
   "metadata": {},
   "outputs": [
    {
     "output_type": "execute_result",
     "data": {
      "text/plain": [
       "OFFENSE    total\n",
       "2000       80861\n",
       "2001       75078\n",
       "2002       70993\n",
       "2003       61217\n",
       "2004       66733\n",
       "2005       67854\n",
       "2006       69028\n",
       "2007       70958\n",
       "2008       68958\n",
       "2009       63760\n",
       "2010       59387\n",
       "2011       57240\n",
       "2012       56902\n",
       "2013       57650\n",
       "2014       56869\n",
       "2015       56520\n",
       "2016       58346\n",
       "2017       54907\n",
       "2018       52667\n",
       "2019       51484\n",
       "Name: 8, dtype: object"
      ]
     },
     "metadata": {},
     "execution_count": 98
    }
   ],
   "source": [
    "total_crime = ny_crime_df.iloc[8]\n",
    "total_crime\n",
    "# totot = total_crime[['total']]\n",
    "# totot"
   ]
  },
  {
   "cell_type": "code",
   "execution_count": 99,
   "metadata": {},
   "outputs": [
    {
     "output_type": "error",
     "ename": "KeyError",
     "evalue": "'total'",
     "traceback": [
      "\u001b[0;31m---------------------------------------------------------------------------\u001b[0m",
      "\u001b[0;31mKeyError\u001b[0m                                  Traceback (most recent call last)",
      "\u001b[0;32m~/seattle-py-401n2/data-visualization/.venv/lib/python3.9/site-packages/pandas/core/indexes/base.py\u001b[0m in \u001b[0;36mget_loc\u001b[0;34m(self, key, method, tolerance)\u001b[0m\n\u001b[1;32m   3079\u001b[0m             \u001b[0;32mtry\u001b[0m\u001b[0;34m:\u001b[0m\u001b[0;34m\u001b[0m\u001b[0;34m\u001b[0m\u001b[0m\n\u001b[0;32m-> 3080\u001b[0;31m                 \u001b[0;32mreturn\u001b[0m \u001b[0mself\u001b[0m\u001b[0;34m.\u001b[0m\u001b[0m_engine\u001b[0m\u001b[0;34m.\u001b[0m\u001b[0mget_loc\u001b[0m\u001b[0;34m(\u001b[0m\u001b[0mcasted_key\u001b[0m\u001b[0;34m)\u001b[0m\u001b[0;34m\u001b[0m\u001b[0;34m\u001b[0m\u001b[0m\n\u001b[0m\u001b[1;32m   3081\u001b[0m             \u001b[0;32mexcept\u001b[0m \u001b[0mKeyError\u001b[0m \u001b[0;32mas\u001b[0m \u001b[0merr\u001b[0m\u001b[0;34m:\u001b[0m\u001b[0;34m\u001b[0m\u001b[0;34m\u001b[0m\u001b[0m\n",
      "\u001b[0;32mpandas/_libs/index.pyx\u001b[0m in \u001b[0;36mpandas._libs.index.IndexEngine.get_loc\u001b[0;34m()\u001b[0m\n",
      "\u001b[0;32mpandas/_libs/index.pyx\u001b[0m in \u001b[0;36mpandas._libs.index.IndexEngine.get_loc\u001b[0;34m()\u001b[0m\n",
      "\u001b[0;32mpandas/_libs/hashtable_class_helper.pxi\u001b[0m in \u001b[0;36mpandas._libs.hashtable.PyObjectHashTable.get_item\u001b[0;34m()\u001b[0m\n",
      "\u001b[0;32mpandas/_libs/hashtable_class_helper.pxi\u001b[0m in \u001b[0;36mpandas._libs.hashtable.PyObjectHashTable.get_item\u001b[0;34m()\u001b[0m\n",
      "\u001b[0;31mKeyError\u001b[0m: 'total'",
      "\nThe above exception was the direct cause of the following exception:\n",
      "\u001b[0;31mKeyError\u001b[0m                                  Traceback (most recent call last)",
      "\u001b[0;32m<ipython-input-99-3ec3dfd9bf56>\u001b[0m in \u001b[0;36m<module>\u001b[0;34m\u001b[0m\n\u001b[0;32m----> 1\u001b[0;31m \u001b[0mtotal_crime\u001b[0m\u001b[0;34m[\u001b[0m\u001b[0;34m'total'\u001b[0m\u001b[0;34m]\u001b[0m\u001b[0;34m.\u001b[0m\u001b[0mvalues\u001b[0m\u001b[0;34m\u001b[0m\u001b[0;34m\u001b[0m\u001b[0m\n\u001b[0m",
      "\u001b[0;32m~/seattle-py-401n2/data-visualization/.venv/lib/python3.9/site-packages/pandas/core/series.py\u001b[0m in \u001b[0;36m__getitem__\u001b[0;34m(self, key)\u001b[0m\n\u001b[1;32m    822\u001b[0m \u001b[0;34m\u001b[0m\u001b[0m\n\u001b[1;32m    823\u001b[0m         \u001b[0;32melif\u001b[0m \u001b[0mkey_is_scalar\u001b[0m\u001b[0;34m:\u001b[0m\u001b[0;34m\u001b[0m\u001b[0;34m\u001b[0m\u001b[0m\n\u001b[0;32m--> 824\u001b[0;31m             \u001b[0;32mreturn\u001b[0m \u001b[0mself\u001b[0m\u001b[0;34m.\u001b[0m\u001b[0m_get_value\u001b[0m\u001b[0;34m(\u001b[0m\u001b[0mkey\u001b[0m\u001b[0;34m)\u001b[0m\u001b[0;34m\u001b[0m\u001b[0;34m\u001b[0m\u001b[0m\n\u001b[0m\u001b[1;32m    825\u001b[0m \u001b[0;34m\u001b[0m\u001b[0m\n\u001b[1;32m    826\u001b[0m         \u001b[0;32mif\u001b[0m \u001b[0mis_hashable\u001b[0m\u001b[0;34m(\u001b[0m\u001b[0mkey\u001b[0m\u001b[0;34m)\u001b[0m\u001b[0;34m:\u001b[0m\u001b[0;34m\u001b[0m\u001b[0;34m\u001b[0m\u001b[0m\n",
      "\u001b[0;32m~/seattle-py-401n2/data-visualization/.venv/lib/python3.9/site-packages/pandas/core/series.py\u001b[0m in \u001b[0;36m_get_value\u001b[0;34m(self, label, takeable)\u001b[0m\n\u001b[1;32m    930\u001b[0m \u001b[0;34m\u001b[0m\u001b[0m\n\u001b[1;32m    931\u001b[0m         \u001b[0;31m# Similar to Index.get_value, but we do not fall back to positional\u001b[0m\u001b[0;34m\u001b[0m\u001b[0;34m\u001b[0m\u001b[0;34m\u001b[0m\u001b[0m\n\u001b[0;32m--> 932\u001b[0;31m         \u001b[0mloc\u001b[0m \u001b[0;34m=\u001b[0m \u001b[0mself\u001b[0m\u001b[0;34m.\u001b[0m\u001b[0mindex\u001b[0m\u001b[0;34m.\u001b[0m\u001b[0mget_loc\u001b[0m\u001b[0;34m(\u001b[0m\u001b[0mlabel\u001b[0m\u001b[0;34m)\u001b[0m\u001b[0;34m\u001b[0m\u001b[0;34m\u001b[0m\u001b[0m\n\u001b[0m\u001b[1;32m    933\u001b[0m         \u001b[0;32mreturn\u001b[0m \u001b[0mself\u001b[0m\u001b[0;34m.\u001b[0m\u001b[0mindex\u001b[0m\u001b[0;34m.\u001b[0m\u001b[0m_get_values_for_loc\u001b[0m\u001b[0;34m(\u001b[0m\u001b[0mself\u001b[0m\u001b[0;34m,\u001b[0m \u001b[0mloc\u001b[0m\u001b[0;34m,\u001b[0m \u001b[0mlabel\u001b[0m\u001b[0;34m)\u001b[0m\u001b[0;34m\u001b[0m\u001b[0;34m\u001b[0m\u001b[0m\n\u001b[1;32m    934\u001b[0m \u001b[0;34m\u001b[0m\u001b[0m\n",
      "\u001b[0;32m~/seattle-py-401n2/data-visualization/.venv/lib/python3.9/site-packages/pandas/core/indexes/base.py\u001b[0m in \u001b[0;36mget_loc\u001b[0;34m(self, key, method, tolerance)\u001b[0m\n\u001b[1;32m   3080\u001b[0m                 \u001b[0;32mreturn\u001b[0m \u001b[0mself\u001b[0m\u001b[0;34m.\u001b[0m\u001b[0m_engine\u001b[0m\u001b[0;34m.\u001b[0m\u001b[0mget_loc\u001b[0m\u001b[0;34m(\u001b[0m\u001b[0mcasted_key\u001b[0m\u001b[0;34m)\u001b[0m\u001b[0;34m\u001b[0m\u001b[0;34m\u001b[0m\u001b[0m\n\u001b[1;32m   3081\u001b[0m             \u001b[0;32mexcept\u001b[0m \u001b[0mKeyError\u001b[0m \u001b[0;32mas\u001b[0m \u001b[0merr\u001b[0m\u001b[0;34m:\u001b[0m\u001b[0;34m\u001b[0m\u001b[0;34m\u001b[0m\u001b[0m\n\u001b[0;32m-> 3082\u001b[0;31m                 \u001b[0;32mraise\u001b[0m \u001b[0mKeyError\u001b[0m\u001b[0;34m(\u001b[0m\u001b[0mkey\u001b[0m\u001b[0;34m)\u001b[0m \u001b[0;32mfrom\u001b[0m \u001b[0merr\u001b[0m\u001b[0;34m\u001b[0m\u001b[0;34m\u001b[0m\u001b[0m\n\u001b[0m\u001b[1;32m   3083\u001b[0m \u001b[0;34m\u001b[0m\u001b[0m\n\u001b[1;32m   3084\u001b[0m         \u001b[0;32mif\u001b[0m \u001b[0mtolerance\u001b[0m \u001b[0;32mis\u001b[0m \u001b[0;32mnot\u001b[0m \u001b[0;32mNone\u001b[0m\u001b[0;34m:\u001b[0m\u001b[0;34m\u001b[0m\u001b[0;34m\u001b[0m\u001b[0m\n",
      "\u001b[0;31mKeyError\u001b[0m: 'total'"
     ]
    }
   ],
   "source": [
    "total_crime['total'].values"
   ]
  },
  {
   "cell_type": "code",
   "execution_count": null,
   "metadata": {},
   "outputs": [],
   "source": []
  }
 ]
}